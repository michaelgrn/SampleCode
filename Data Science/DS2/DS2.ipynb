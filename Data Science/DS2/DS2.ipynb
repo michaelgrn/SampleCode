{
 "cells": [
  {
   "cell_type": "markdown",
   "metadata": {},
   "source": [
    "# Imports and Global Variables"
   ]
  },
  {
   "cell_type": "code",
   "execution_count": 1,
   "metadata": {},
   "outputs": [],
   "source": [
    "import numpy as np\n",
    "import pandas as pd\n",
    "import seaborn as sns\n",
    "import matplotlib.pyplot as plt\n",
    "from sklearn.pipeline import Pipeline\n",
    "from sklearn.feature_extraction.text import CountVectorizer, TfidfVectorizer\n",
    "from sklearn.naive_bayes import MultinomialNB\n",
    "from sklearn.metrics import accuracy_score\n",
    "from sklearn.neighbors import KNeighborsClassifier\n",
    "from sklearn.model_selection import GridSearchCV\n",
    "from sklearn.decomposition import TruncatedSVD\n",
    "from sklearn.cluster import KMeans\n",
    "\n",
    "testAll = []\n",
    "trainAll = []"
   ]
  },
  {
   "cell_type": "markdown",
   "metadata": {},
   "source": [
    "# Load and Prepare Data \n",
    "\n",
    "*Download the Raw text files for the main ‘BBC’ data set from http://mlg.ucd.ie/datasets/bbc.html. This will be a Zip file that contains text files with data.*\n",
    "\n",
    "*You can read the files into a Pandas data frame with the following code:*"
   ]
  },
  {
   "cell_type": "code",
   "execution_count": 2,
   "metadata": {},
   "outputs": [],
   "source": [
    "from pathlib import Path\n",
    "articles = pd.DataFrame.from_records(\n",
    "    ((f.parent.name, f.name, f.read_text(encoding='latin1'))\n",
    "     for f in Path('bbc').glob('*/*.txt')),\n",
    "    columns=['category', 'file', 'text']\n",
    ")"
   ]
  },
  {
   "cell_type": "markdown",
   "metadata": {},
   "source": [
    "*Set aside 20% of the data for testing your classifiers.*"
   ]
  },
  {
   "cell_type": "code",
   "execution_count": 3,
   "metadata": {},
   "outputs": [
    {
     "data": {
      "text/html": [
       "<div>\n",
       "<style scoped>\n",
       "    .dataframe tbody tr th:only-of-type {\n",
       "        vertical-align: middle;\n",
       "    }\n",
       "\n",
       "    .dataframe tbody tr th {\n",
       "        vertical-align: top;\n",
       "    }\n",
       "\n",
       "    .dataframe thead th {\n",
       "        text-align: right;\n",
       "    }\n",
       "</style>\n",
       "<table border=\"1\" class=\"dataframe\">\n",
       "  <thead>\n",
       "    <tr style=\"text-align: right;\">\n",
       "      <th></th>\n",
       "      <th>category</th>\n",
       "      <th>file</th>\n",
       "      <th>text</th>\n",
       "    </tr>\n",
       "  </thead>\n",
       "  <tbody>\n",
       "    <tr>\n",
       "      <th>0</th>\n",
       "      <td>entertainment</td>\n",
       "      <td>289.txt</td>\n",
       "      <td>Musicians to tackle US red tape\\n\\nMusicians' ...</td>\n",
       "    </tr>\n",
       "    <tr>\n",
       "      <th>1</th>\n",
       "      <td>entertainment</td>\n",
       "      <td>262.txt</td>\n",
       "      <td>U2's desire to be number one\\n\\nU2, who have w...</td>\n",
       "    </tr>\n",
       "    <tr>\n",
       "      <th>4</th>\n",
       "      <td>entertainment</td>\n",
       "      <td>074.txt</td>\n",
       "      <td>Ocean's Twelve raids box office\\n\\nOcean's Twe...</td>\n",
       "    </tr>\n",
       "    <tr>\n",
       "      <th>6</th>\n",
       "      <td>entertainment</td>\n",
       "      <td>114.txt</td>\n",
       "      <td>Pete Doherty misses bail deadline\\n\\nSinger Pe...</td>\n",
       "    </tr>\n",
       "    <tr>\n",
       "      <th>7</th>\n",
       "      <td>entertainment</td>\n",
       "      <td>100.txt</td>\n",
       "      <td>Fockers retain film chart crown\\n\\nComedy Meet...</td>\n",
       "    </tr>\n",
       "  </tbody>\n",
       "</table>\n",
       "</div>"
      ],
      "text/plain": [
       "        category     file                                               text\n",
       "0  entertainment  289.txt  Musicians to tackle US red tape\\n\\nMusicians' ...\n",
       "1  entertainment  262.txt  U2's desire to be number one\\n\\nU2, who have w...\n",
       "4  entertainment  074.txt  Ocean's Twelve raids box office\\n\\nOcean's Twe...\n",
       "6  entertainment  114.txt  Pete Doherty misses bail deadline\\n\\nSinger Pe...\n",
       "7  entertainment  100.txt  Fockers retain film chart crown\\n\\nComedy Meet..."
      ]
     },
     "execution_count": 3,
     "metadata": {},
     "output_type": "execute_result"
    }
   ],
   "source": [
    "rng = np.random.RandomState(20201031)\n",
    "test = articles.sample(frac=0.25, random_state=rng)\n",
    "train_mask = pd.Series(True, index=articles.index)\n",
    "train_mask[test.index] = False\n",
    "train = articles[train_mask].copy()\n",
    "train.head()"
   ]
  },
  {
   "cell_type": "markdown",
   "metadata": {},
   "source": [
    "*Show the distribution of categories - how many articles are there in each category? Do this with a suitable plot.*"
   ]
  },
  {
   "cell_type": "code",
   "execution_count": 4,
   "metadata": {},
   "outputs": [
    {
     "data": {
      "text/plain": [
       "Text(0.5, 1.0, 'Distribution of Categories among Articles')"
      ]
     },
     "execution_count": 4,
     "metadata": {},
     "output_type": "execute_result"
    },
    {
     "data": {
      "image/png": "[encoded data removed]",
      "text/plain": [
       "<Figure size 432x288 with 1 Axes>"
      ]
     },
     "metadata": {
      "needs_background": "light"
     },
     "output_type": "display_data"
    }
   ],
   "source": [
    "categories = pd.DataFrame(articles[\"category\"].value_counts())\n",
    "sns.barplot(x=categories.index, y='category', data= categories ).set_title(\"Distribution of Categories among Articles\")"
   ]
  },
  {
   "cell_type": "code",
   "execution_count": 5,
   "metadata": {},
   "outputs": [
    {
     "data": {
      "text/plain": [
       "sport            511\n",
       "business         510\n",
       "politics         417\n",
       "tech             401\n",
       "entertainment    386\n",
       "Name: category, dtype: int64"
      ]
     },
     "execution_count": 5,
     "metadata": {},
     "output_type": "execute_result"
    }
   ],
   "source": [
    "articles[\"category\"].value_counts()"
   ]
  },
  {
   "cell_type": "markdown",
   "metadata": {},
   "source": [
    "# Classification\n",
    "\n",
    "*Train a naïve Bayes classifier (MultinomialNB) to predict an article's category using its term counts.*"
   ]
  },
  {
   "cell_type": "code",
   "execution_count": 6,
   "metadata": {},
   "outputs": [
    {
     "data": {
      "text/plain": [
       "Pipeline(memory=None,\n",
       "         steps=[('word_count',\n",
       "                 CountVectorizer(analyzer='word', binary=False,\n",
       "                                 decode_error='strict',\n",
       "                                 dtype=<class 'numpy.int64'>, encoding='utf-8',\n",
       "                                 input='content', lowercase=True, max_df=1.0,\n",
       "                                 max_features=None, min_df=1,\n",
       "                                 ngram_range=(1, 1), preprocessor=None,\n",
       "                                 stop_words=None, strip_accents=None,\n",
       "                                 token_pattern='(?u)\\\\b\\\\w\\\\w+\\\\b',\n",
       "                                 tokenizer=None, vocabulary=None)),\n",
       "                ('classify',\n",
       "                 MultinomialNB(alpha=1.0, class_prior=None, fit_prior=True))],\n",
       "         verbose=False)"
      ]
     },
     "execution_count": 6,
     "metadata": {},
     "output_type": "execute_result"
    }
   ],
   "source": [
    "bayes_pipe = Pipeline([\n",
    "    ('word_count', CountVectorizer()),\n",
    "    ('classify', MultinomialNB())\n",
    "])\n",
    "bayes_pipe.fit(train['text'], train['category'])"
   ]
  },
  {
   "cell_type": "markdown",
   "metadata": {},
   "source": [
    "*Report its accuracy on both the training and the test data.*"
   ]
  },
  {
   "cell_type": "code",
   "execution_count": 7,
   "metadata": {},
   "outputs": [
    {
     "name": "stdout",
     "output_type": "stream",
     "text": [
      "Accuracy of NBC on training data: 0.9928100659077291\n",
      "Accuracy of NBC on test data: 0.9820143884892086\n"
     ]
    }
   ],
   "source": [
    "print(\"Accuracy of NBC on training data: \" + str(accuracy_score(train['category'], bayes_pipe.predict(train['text']))))\n",
    "print(\"Accuracy of NBC on test data: \" + str(accuracy_score(test['category'], bayes_pipe.predict(test['text']))))\n",
    "\n",
    "trainAll.append(accuracy_score(train['category'], bayes_pipe.predict(train['text'])))\n",
    "testAll.append(accuracy_score(test['category'], bayes_pipe.predict(test['text'])))"
   ]
  },
  {
   "cell_type": "markdown",
   "metadata": {},
   "source": [
    "*Train a k-NN classifier (KNeighborsClassifier) with 5 neighbors on TF-IDF term vectors.*"
   ]
  },
  {
   "cell_type": "code",
   "execution_count": 8,
   "metadata": {},
   "outputs": [
    {
     "data": {
      "text/plain": [
       "Pipeline(memory=None,\n",
       "         steps=[('word_count',\n",
       "                 TfidfVectorizer(analyzer='word', binary=False,\n",
       "                                 decode_error='strict',\n",
       "                                 dtype=<class 'numpy.float64'>,\n",
       "                                 encoding='utf-8', input='content',\n",
       "                                 lowercase=True, max_df=1.0, max_features=None,\n",
       "                                 min_df=1, ngram_range=(1, 1), norm='l2',\n",
       "                                 preprocessor=None, smooth_idf=True,\n",
       "                                 stop_words=None, strip_accents=None,\n",
       "                                 sublinear_tf=False,\n",
       "                                 token_pattern='(?u)\\\\b\\\\w\\\\w+\\\\b',\n",
       "                                 tokenizer=None, use_idf=True,\n",
       "                                 vocabulary=None)),\n",
       "                ('classify',\n",
       "                 KNeighborsClassifier(algorithm='auto', leaf_size=30,\n",
       "                                      metric='minkowski', metric_params=None,\n",
       "                                      n_jobs=None, n_neighbors=5, p=2,\n",
       "                                      weights='uniform'))],\n",
       "         verbose=False)"
      ]
     },
     "execution_count": 8,
     "metadata": {},
     "output_type": "execute_result"
    }
   ],
   "source": [
    "knn = Pipeline([\n",
    "    ('word_count', TfidfVectorizer()),\n",
    "    ('classify', KNeighborsClassifier(n_neighbors=5))\n",
    "])\n",
    "knn.fit(train['text'], train['category'])"
   ]
  },
  {
   "cell_type": "markdown",
   "metadata": {},
   "source": [
    "Report its accuracy on both the training and the test data. You can do this with a pipeline."
   ]
  },
  {
   "cell_type": "code",
   "execution_count": 9,
   "metadata": {},
   "outputs": [
    {
     "name": "stdout",
     "output_type": "stream",
     "text": [
      "Accuracy of k-NN classifier with 5 neighbors on training data: 0.9484721390053924\n",
      "Accuracy of k-NN classifier with 5 neighbors on test data: 0.9370503597122302\n"
     ]
    }
   ],
   "source": [
    "print(\"Accuracy of k-NN classifier with 5 neighbors on training data: \" + str(accuracy_score(train['category'], knn.predict(train['text']))))\n",
    "print(\"Accuracy of k-NN classifier with 5 neighbors on test data: \" + str(accuracy_score(test['category'], knn.predict(test['text']))))\n",
    "\n",
    "trainAll.append(accuracy_score(train['category'], knn.predict(train['text'])))\n",
    "testAll.append(accuracy_score(test['category'], knn.predict(test['text'])))"
   ]
  },
  {
   "cell_type": "markdown",
   "metadata": {},
   "source": [
    "*Train a k-NN classifier with GridSearchCV to pick the neighborhood size.*"
   ]
  },
  {
   "cell_type": "code",
   "execution_count": 10,
   "metadata": {},
   "outputs": [],
   "source": [
    "knn = Pipeline([\n",
    "    ('word_count', TfidfVectorizer()),\n",
    "    ('classify', KNeighborsClassifier())\n",
    "])\n",
    "param_grid = {\n",
    "     'classify__n_neighbors': [1, 2, 3, 5, 7, 10]\n",
    "   }\n",
    "\n",
    "grid = GridSearchCV(knn, param_grid)"
   ]
  },
  {
   "cell_type": "code",
   "execution_count": 11,
   "metadata": {},
   "outputs": [
    {
     "data": {
      "text/plain": [
       "GridSearchCV(cv=None, error_score=nan,\n",
       "             estimator=Pipeline(memory=None,\n",
       "                                steps=[('word_count',\n",
       "                                        TfidfVectorizer(analyzer='word',\n",
       "                                                        binary=False,\n",
       "                                                        decode_error='strict',\n",
       "                                                        dtype=<class 'numpy.float64'>,\n",
       "                                                        encoding='utf-8',\n",
       "                                                        input='content',\n",
       "                                                        lowercase=True,\n",
       "                                                        max_df=1.0,\n",
       "                                                        max_features=None,\n",
       "                                                        min_df=1,\n",
       "                                                        ngram_range=(1, 1),\n",
       "                                                        norm='l2',\n",
       "                                                        preprocessor=None,\n",
       "                                                        smooth_idf=True,\n",
       "                                                        stop_words=None,\n",
       "                                                        s...\n",
       "                                                        use_idf=True,\n",
       "                                                        vocabulary=None)),\n",
       "                                       ('classify',\n",
       "                                        KNeighborsClassifier(algorithm='auto',\n",
       "                                                             leaf_size=30,\n",
       "                                                             metric='minkowski',\n",
       "                                                             metric_params=None,\n",
       "                                                             n_jobs=None,\n",
       "                                                             n_neighbors=5, p=2,\n",
       "                                                             weights='uniform'))],\n",
       "                                verbose=False),\n",
       "             iid='deprecated', n_jobs=None,\n",
       "             param_grid={'classify__n_neighbors': [1, 2, 3, 5, 7, 10]},\n",
       "             pre_dispatch='2*n_jobs', refit=True, return_train_score=False,\n",
       "             scoring=None, verbose=0)"
      ]
     },
     "execution_count": 11,
     "metadata": {},
     "output_type": "execute_result"
    }
   ],
   "source": [
    "grid.fit(train['text'], train['category'])"
   ]
  },
  {
   "cell_type": "code",
   "execution_count": 12,
   "metadata": {},
   "outputs": [
    {
     "data": {
      "text/html": [
       "<div>\n",
       "<style scoped>\n",
       "    .dataframe tbody tr th:only-of-type {\n",
       "        vertical-align: middle;\n",
       "    }\n",
       "\n",
       "    .dataframe tbody tr th {\n",
       "        vertical-align: top;\n",
       "    }\n",
       "\n",
       "    .dataframe thead th {\n",
       "        text-align: right;\n",
       "    }\n",
       "</style>\n",
       "<table border=\"1\" class=\"dataframe\">\n",
       "  <thead>\n",
       "    <tr style=\"text-align: right;\">\n",
       "      <th></th>\n",
       "      <th>mean_fit_time</th>\n",
       "      <th>std_fit_time</th>\n",
       "      <th>mean_score_time</th>\n",
       "      <th>std_score_time</th>\n",
       "      <th>param_classify__n_neighbors</th>\n",
       "      <th>params</th>\n",
       "      <th>split0_test_score</th>\n",
       "      <th>split1_test_score</th>\n",
       "      <th>split2_test_score</th>\n",
       "      <th>split3_test_score</th>\n",
       "      <th>split4_test_score</th>\n",
       "      <th>mean_test_score</th>\n",
       "      <th>std_test_score</th>\n",
       "      <th>rank_test_score</th>\n",
       "    </tr>\n",
       "  </thead>\n",
       "  <tbody>\n",
       "    <tr>\n",
       "      <th>0</th>\n",
       "      <td>0.462141</td>\n",
       "      <td>0.013972</td>\n",
       "      <td>0.189804</td>\n",
       "      <td>0.009084</td>\n",
       "      <td>1</td>\n",
       "      <td>{'classify__n_neighbors': 1}</td>\n",
       "      <td>0.910180</td>\n",
       "      <td>0.913174</td>\n",
       "      <td>0.877246</td>\n",
       "      <td>0.907186</td>\n",
       "      <td>0.903904</td>\n",
       "      <td>0.902338</td>\n",
       "      <td>0.012919</td>\n",
       "      <td>4</td>\n",
       "    </tr>\n",
       "    <tr>\n",
       "      <th>1</th>\n",
       "      <td>0.479944</td>\n",
       "      <td>0.018297</td>\n",
       "      <td>0.190885</td>\n",
       "      <td>0.004636</td>\n",
       "      <td>2</td>\n",
       "      <td>{'classify__n_neighbors': 2}</td>\n",
       "      <td>0.916168</td>\n",
       "      <td>0.889222</td>\n",
       "      <td>0.883234</td>\n",
       "      <td>0.886228</td>\n",
       "      <td>0.912913</td>\n",
       "      <td>0.897553</td>\n",
       "      <td>0.014037</td>\n",
       "      <td>6</td>\n",
       "    </tr>\n",
       "    <tr>\n",
       "      <th>2</th>\n",
       "      <td>0.482072</td>\n",
       "      <td>0.011950</td>\n",
       "      <td>0.213520</td>\n",
       "      <td>0.033791</td>\n",
       "      <td>3</td>\n",
       "      <td>{'classify__n_neighbors': 3}</td>\n",
       "      <td>0.901198</td>\n",
       "      <td>0.910180</td>\n",
       "      <td>0.886228</td>\n",
       "      <td>0.901198</td>\n",
       "      <td>0.894895</td>\n",
       "      <td>0.898739</td>\n",
       "      <td>0.007928</td>\n",
       "      <td>5</td>\n",
       "    </tr>\n",
       "    <tr>\n",
       "      <th>3</th>\n",
       "      <td>0.505301</td>\n",
       "      <td>0.022788</td>\n",
       "      <td>0.202328</td>\n",
       "      <td>0.013813</td>\n",
       "      <td>5</td>\n",
       "      <td>{'classify__n_neighbors': 5}</td>\n",
       "      <td>0.901198</td>\n",
       "      <td>0.931138</td>\n",
       "      <td>0.898204</td>\n",
       "      <td>0.901198</td>\n",
       "      <td>0.927928</td>\n",
       "      <td>0.911933</td>\n",
       "      <td>0.014448</td>\n",
       "      <td>2</td>\n",
       "    </tr>\n",
       "    <tr>\n",
       "      <th>4</th>\n",
       "      <td>0.482453</td>\n",
       "      <td>0.029457</td>\n",
       "      <td>0.201113</td>\n",
       "      <td>0.007244</td>\n",
       "      <td>7</td>\n",
       "      <td>{'classify__n_neighbors': 7}</td>\n",
       "      <td>0.901198</td>\n",
       "      <td>0.928144</td>\n",
       "      <td>0.892216</td>\n",
       "      <td>0.907186</td>\n",
       "      <td>0.915916</td>\n",
       "      <td>0.908932</td>\n",
       "      <td>0.012330</td>\n",
       "      <td>3</td>\n",
       "    </tr>\n",
       "    <tr>\n",
       "      <th>5</th>\n",
       "      <td>0.460776</td>\n",
       "      <td>0.016262</td>\n",
       "      <td>0.188193</td>\n",
       "      <td>0.004323</td>\n",
       "      <td>10</td>\n",
       "      <td>{'classify__n_neighbors': 10}</td>\n",
       "      <td>0.916168</td>\n",
       "      <td>0.928144</td>\n",
       "      <td>0.874251</td>\n",
       "      <td>0.925150</td>\n",
       "      <td>0.918919</td>\n",
       "      <td>0.912526</td>\n",
       "      <td>0.019608</td>\n",
       "      <td>1</td>\n",
       "    </tr>\n",
       "  </tbody>\n",
       "</table>\n",
       "</div>"
      ],
      "text/plain": [
       "   mean_fit_time  std_fit_time  mean_score_time  std_score_time  \\\n",
       "0       0.462141      0.013972         0.189804        0.009084   \n",
       "1       0.479944      0.018297         0.190885        0.004636   \n",
       "2       0.482072      0.011950         0.213520        0.033791   \n",
       "3       0.505301      0.022788         0.202328        0.013813   \n",
       "4       0.482453      0.029457         0.201113        0.007244   \n",
       "5       0.460776      0.016262         0.188193        0.004323   \n",
       "\n",
       "  param_classify__n_neighbors                         params  \\\n",
       "0                           1   {'classify__n_neighbors': 1}   \n",
       "1                           2   {'classify__n_neighbors': 2}   \n",
       "2                           3   {'classify__n_neighbors': 3}   \n",
       "3                           5   {'classify__n_neighbors': 5}   \n",
       "4                           7   {'classify__n_neighbors': 7}   \n",
       "5                          10  {'classify__n_neighbors': 10}   \n",
       "\n",
       "   split0_test_score  split1_test_score  split2_test_score  split3_test_score  \\\n",
       "0           0.910180           0.913174           0.877246           0.907186   \n",
       "1           0.916168           0.889222           0.883234           0.886228   \n",
       "2           0.901198           0.910180           0.886228           0.901198   \n",
       "3           0.901198           0.931138           0.898204           0.901198   \n",
       "4           0.901198           0.928144           0.892216           0.907186   \n",
       "5           0.916168           0.928144           0.874251           0.925150   \n",
       "\n",
       "   split4_test_score  mean_test_score  std_test_score  rank_test_score  \n",
       "0           0.903904         0.902338        0.012919                4  \n",
       "1           0.912913         0.897553        0.014037                6  \n",
       "2           0.894895         0.898739        0.007928                5  \n",
       "3           0.927928         0.911933        0.014448                2  \n",
       "4           0.915916         0.908932        0.012330                3  \n",
       "5           0.918919         0.912526        0.019608                1  "
      ]
     },
     "execution_count": 12,
     "metadata": {},
     "output_type": "execute_result"
    }
   ],
   "source": [
    "pd.DataFrame(grid.cv_results_)"
   ]
  },
  {
   "cell_type": "code",
   "execution_count": 13,
   "metadata": {},
   "outputs": [
    {
     "data": {
      "text/plain": [
       "Pipeline(memory=None,\n",
       "         steps=[('word_count',\n",
       "                 TfidfVectorizer(analyzer='word', binary=False,\n",
       "                                 decode_error='strict',\n",
       "                                 dtype=<class 'numpy.float64'>,\n",
       "                                 encoding='utf-8', input='content',\n",
       "                                 lowercase=True, max_df=1.0, max_features=None,\n",
       "                                 min_df=1, ngram_range=(1, 1), norm='l2',\n",
       "                                 preprocessor=None, smooth_idf=True,\n",
       "                                 stop_words=None, strip_accents=None,\n",
       "                                 sublinear_tf=False,\n",
       "                                 token_pattern='(?u)\\\\b\\\\w\\\\w+\\\\b',\n",
       "                                 tokenizer=None, use_idf=True,\n",
       "                                 vocabulary=None)),\n",
       "                ('classify',\n",
       "                 KNeighborsClassifier(algorithm='auto', leaf_size=30,\n",
       "                                      metric='minkowski', metric_params=None,\n",
       "                                      n_jobs=None, n_neighbors=10, p=2,\n",
       "                                      weights='uniform'))],\n",
       "         verbose=False)"
      ]
     },
     "execution_count": 13,
     "metadata": {},
     "output_type": "execute_result"
    }
   ],
   "source": [
    "grid.best_estimator_"
   ]
  },
  {
   "cell_type": "code",
   "execution_count": 14,
   "metadata": {},
   "outputs": [
    {
     "data": {
      "text/plain": [
       "0.9125262987538436"
      ]
     },
     "execution_count": 14,
     "metadata": {},
     "output_type": "execute_result"
    }
   ],
   "source": [
    "grid.best_score_"
   ]
  },
  {
   "cell_type": "markdown",
   "metadata": {},
   "source": [
    "*Report its accuracy on both the training and test data.*"
   ]
  },
  {
   "cell_type": "code",
   "execution_count": 15,
   "metadata": {},
   "outputs": [
    {
     "name": "stdout",
     "output_type": "stream",
     "text": [
      "Accuracy of k-NN classifier passed through a GridSearch on training data: 0.9340922708208508\n",
      "Accuracy of k-NN classifier passed through a GridSearch on test data: 0.9370503597122302\n"
     ]
    }
   ],
   "source": [
    "knn = Pipeline([\n",
    "    ('word_count', TfidfVectorizer()),\n",
    "    ('classify', KNeighborsClassifier(n_neighbors=10))\n",
    "])\n",
    "knn.fit(train['text'], train['category'])\n",
    "\n",
    "print(\"Accuracy of k-NN classifier passed through a GridSearch on training data: \" + str(accuracy_score(train['category'], knn.predict(train['text']))))\n",
    "print(\"Accuracy of k-NN classifier passed through a GridSearch on test data: \" + str(accuracy_score(test['category'], knn.predict(test['text']))))\n",
    "\n",
    "testAll.append(accuracy_score(test['category'], knn.predict(test['text'])))\n",
    "trainAll.append(accuracy_score(train['category'], knn.predict(train['text'])))"
   ]
  },
  {
   "cell_type": "markdown",
   "metadata": {},
   "source": [
    "*Does tuning the neighborhood size result in better test accuracy?*\n",
    "\n",
    "It does seem that tuning the neighborhood size using GridSearchCV actually decreases the test accuracy, but about the same results for test data. One would suspect that using more neighborhoods has decreased the overfitting, especially because GridSearch is using cross validation. "
   ]
  },
  {
   "cell_type": "markdown",
   "metadata": {},
   "source": [
    "*Train a k-NN classifier with 5 neighbors on the SVD-transformed article texts. You can do this with a 3-stage pipeline. Report its accuracy on both the training and the test data.*"
   ]
  },
  {
   "cell_type": "code",
   "execution_count": 16,
   "metadata": {},
   "outputs": [
    {
     "data": {
      "text/plain": [
       "Pipeline(memory=None,\n",
       "         steps=[('word_vec',\n",
       "                 TfidfVectorizer(analyzer='word', binary=False,\n",
       "                                 decode_error='strict',\n",
       "                                 dtype=<class 'numpy.float64'>,\n",
       "                                 encoding='utf-8', input='content',\n",
       "                                 lowercase=True, max_df=1.0, max_features=None,\n",
       "                                 min_df=1, ngram_range=(1, 1), norm='l2',\n",
       "                                 preprocessor=None, smooth_idf=True,\n",
       "                                 stop_words=None, strip_accents=None,\n",
       "                                 sublinear_tf=False,\n",
       "                                 token_pattern='(?u)\\\\b\\\\w\\\\w+\\\\b',\n",
       "                                 tokenizer=None, use_idf=True,\n",
       "                                 vocabulary=None)),\n",
       "                ('svd',\n",
       "                 TruncatedSVD(algorithm='randomized', n_components=8, n_iter=5,\n",
       "                              random_state=None, tol=0.0)),\n",
       "                ('classify',\n",
       "                 KNeighborsClassifier(algorithm='auto', leaf_size=30,\n",
       "                                      metric='minkowski', metric_params=None,\n",
       "                                      n_jobs=None, n_neighbors=5, p=2,\n",
       "                                      weights='uniform'))],\n",
       "         verbose=False)"
      ]
     },
     "execution_count": 16,
     "metadata": {},
     "output_type": "execute_result"
    }
   ],
   "source": [
    "svd_pipe = Pipeline([\n",
    "    ('word_vec', TfidfVectorizer()),\n",
    "    ('svd', TruncatedSVD(8)),\n",
    "    ('classify', KNeighborsClassifier(n_neighbors=5))\n",
    "])\n",
    "\n",
    "svd_pipe.fit(train['text'], train['category'])"
   ]
  },
  {
   "cell_type": "code",
   "execution_count": 17,
   "metadata": {},
   "outputs": [
    {
     "name": "stdout",
     "output_type": "stream",
     "text": [
      "Accuracy of SVD classifier on training data: 0.9550629119233074\n",
      "Accuracy of SVD classifier on test data: 0.9550359712230215\n"
     ]
    }
   ],
   "source": [
    "print(\"Accuracy of SVD classifier on training data: \" + str(accuracy_score(train['category'], svd_pipe.predict(train['text']))))\n",
    "print(\"Accuracy of SVD classifier on test data: \" + str(accuracy_score(test['category'], svd_pipe.predict(test['text']))))\n",
    "\n",
    "testAll.append(accuracy_score(test['category'], svd_pipe.predict(test['text'])))\n",
    "trainAll.append(accuracy_score(train['category'], svd_pipe.predict(train['text'])))"
   ]
  },
  {
   "cell_type": "markdown",
   "metadata": {},
   "source": [
    "# Summarizing Classifier Accuracy \n",
    "\n",
    "*At this point, you should have 4 different classifiers.*\n",
    "\n",
    "*Show the accuracy of your 4 different classifiers on both the training and test data with an appropriate table and plot.* "
   ]
  },
  {
   "cell_type": "code",
   "execution_count": 18,
   "metadata": {},
   "outputs": [],
   "source": [
    "accuracyComp = pd.DataFrame(columns = ['test','train'], index = ['bayes', 'knn', 'grid', 'svd'])\n",
    "accuracyComp['test'] = testAll[:4]\n",
    "accuracyComp['train'] = trainAll[:4]\n",
    "accuracyComp['difference'] = accuracyComp['train'] - accuracyComp['test']"
   ]
  },
  {
   "cell_type": "code",
   "execution_count": 19,
   "metadata": {},
   "outputs": [
    {
     "data": {
      "image/png": "[encoded data removed]",
      "text/plain": [
       "<Figure size 432x288 with 1 Axes>"
      ]
     },
     "metadata": {
      "needs_background": "light"
     },
     "output_type": "display_data"
    }
   ],
   "source": [
    "a_plot = sns.barplot(x = accuracyComp.index, y = 'test', data = accuracyComp)\n",
    "a_plot.set(ylim=(.9, 1))\n",
    "a_plot.set_title(\"Comparing Test Precision\")\n",
    "plt.show()"
   ]
  },
  {
   "cell_type": "code",
   "execution_count": 20,
   "metadata": {},
   "outputs": [
    {
     "data": {
      "image/png": "[encoded data removed]",
      "text/plain": [
       "<Figure size 432x288 with 1 Axes>"
      ]
     },
     "metadata": {
      "needs_background": "light"
     },
     "output_type": "display_data"
    }
   ],
   "source": [
    "a_plot = sns.barplot(x = accuracyComp.index, y = 'train', data = accuracyComp)\n",
    "a_plot.set(ylim=(.9, 1))\n",
    "a_plot.set_title(\"Comparing Train Precision\")\n",
    "plt.show()"
   ]
  },
  {
   "cell_type": "code",
   "execution_count": 21,
   "metadata": {},
   "outputs": [
    {
     "data": {
      "image/png": "[encoded data removed]",
      "text/plain": [
       "<Figure size 432x288 with 1 Axes>"
      ]
     },
     "metadata": {
      "needs_background": "light"
     },
     "output_type": "display_data"
    }
   ],
   "source": [
    "a_plot = sns.barplot(x = accuracyComp.index, y = 'difference', data = accuracyComp)\n",
    "a_plot.set(ylim=(-.02, .02))\n",
    "a_plot.set_title(\"Difference between Train and Test\")\n",
    "plt.show()"
   ]
  },
  {
   "cell_type": "markdown",
   "metadata": {},
   "source": [
    "*Which classifier design performs the best? Which classifier seems to overfit the most in the training process?*"
   ]
  },
  {
   "cell_type": "markdown",
   "metadata": {},
   "source": [
    "The classifier that performs the best is the naive Bayes classifier. However, it seems that both that classifier, as well as the KNN classifier seem to overfit on the training process. Though I hesitate to say there is too much overfitting, considering the maximum 1 point difference between accuracy of training and testing. It really depends on what the threshold for overfitting would be. However, if forced to answer the question, I would say both the bayes and knn classifier run the risk of overfitting, while the gridcv and svd seem to deal with overfitting."
   ]
  },
  {
   "cell_type": "markdown",
   "metadata": {},
   "source": [
    "# Clustering"
   ]
  },
  {
   "cell_type": "markdown",
   "metadata": {},
   "source": [
    "*Fit a k-means model with 5 clusters, using TF-IDF vectors, and plot the cluster/category alignment as described above.*"
   ]
  },
  {
   "cell_type": "code",
   "execution_count": 22,
   "metadata": {},
   "outputs": [
    {
     "data": {
      "text/plain": [
       "<seaborn.axisgrid.FacetGrid at 0x1a1dcb7b50>"
      ]
     },
     "execution_count": 22,
     "metadata": {},
     "output_type": "execute_result"
    },
    {
     "data": {
      "image/png": "[encoded data removed]",
      "text/plain": [
       "<Figure size 1080x216 with 5 Axes>"
      ]
     },
     "metadata": {
      "needs_background": "light"
     },
     "output_type": "display_data"
    }
   ],
   "source": [
    "cluster_pipe5 = Pipeline([\n",
    "    ('vectorize', TfidfVectorizer(stop_words='english', max_features=10000)),\n",
    "    ('cluster', KMeans(5, random_state=rng))\n",
    "])\n",
    "\n",
    "cluster_pipe5.fit(train['text'])\n",
    "\n",
    "paper_clusters = cluster_pipe5.predict(train['text'])\n",
    "\n",
    "train['paper_clusters'] = paper_clusters\n",
    "\n",
    "g = sns.FacetGrid(train, col='category')\n",
    "g.map(plt.hist, 'paper_clusters')"
   ]
  },
  {
   "cell_type": "markdown",
   "metadata": {},
   "source": [
    "*Do you think the clustering did a good job of finding the categories?*"
   ]
  },
  {
   "cell_type": "markdown",
   "metadata": {},
   "source": [
    "The clustering technique seems to work rather well, if we are taking majority values for clustering. Like, for politics if we count politics as 4 instead of 1, as more of these are in cluster 4, then clustering appears to work really well. Especially when the majority class is overwhelming (like sport or business)."
   ]
  },
  {
   "cell_type": "markdown",
   "metadata": {},
   "source": [
    "*Repeat with 6 clusters.*"
   ]
  },
  {
   "cell_type": "code",
   "execution_count": 28,
   "metadata": {},
   "outputs": [
    {
     "data": {
      "text/plain": [
       "<seaborn.axisgrid.FacetGrid at 0x1a1d6ce790>"
      ]
     },
     "execution_count": 28,
     "metadata": {},
     "output_type": "execute_result"
    },
    {
     "data": {
      "image/png": "[encoded data removed]",
      "text/plain": [
       "<Figure size 1080x216 with 5 Axes>"
      ]
     },
     "metadata": {
      "needs_background": "light"
     },
     "output_type": "display_data"
    }
   ],
   "source": [
    "cluster_pipe6 = Pipeline([\n",
    "    ('vectorize', TfidfVectorizer(stop_words='english', max_features=10000)),\n",
    "    ('cluster', KMeans(6, random_state=rng))\n",
    "])\n",
    "\n",
    "cluster_pipe6.fit(train['text'])\n",
    "\n",
    "paper_clusters = cluster_pipe6.predict(train['text'])\n",
    "\n",
    "train['paper_clusters'] = paper_clusters\n",
    "\n",
    "g = sns.FacetGrid(train, col='category')\n",
    "g.map(plt.hist, 'paper_clusters')"
   ]
  },
  {
   "cell_type": "markdown",
   "metadata": {},
   "source": [
    "*Do you think this clustering does a better or worse job? Explain why, using evidence from the plots (and if you think additional analyses would be useful, include them to support your argument).*"
   ]
  },
  {
   "cell_type": "markdown",
   "metadata": {},
   "source": [
    "As I was expecting, using 6 clusters works less well than 5 clusters. Considering that there are 5 categories we are attempting to cluster, it makes logical sense that the more clusters we employ, the less clearly defined groups we will find in each cluster. For example; I have seen a number of runs where there were even splits between categories; which could make performing classification a bit confusing. To be noted, since we are using k-means, it returns results different times, so the clusters used in the code below may not be valid if this code is run again."
   ]
  },
  {
   "cell_type": "markdown",
   "metadata": {},
   "source": [
    "*For each cluster in the clustering you think did a better job, find the words that are most important for that cluster. The KMeans object, after it has been fit, has a cluster_centers_ field containing a matrix. There is a row for each cluster, and the columns are features (in our case, words); it says where in word-space the middle of that cluster is. What words have the largest values for each cluster? You can get the words with the vectorizer’s get_feature_names() method. You can get a row of the matrix with matrix[row, :], and use that with the feature names to make a series.*"
   ]
  },
  {
   "cell_type": "code",
   "execution_count": 29,
   "metadata": {},
   "outputs": [
    {
     "name": "stdout",
     "output_type": "stream",
     "text": [
      "The top word for tech in the 5 cluster is: mobile\n",
      "The top word for sports in the 5 cluster is: game\n",
      "The top word for business in the 5 cluster is: said\n",
      "The top word for politics in the 5 cluster is: mr\n",
      "The top word for entertainment in the 5 cluster is: film\n"
     ]
    }
   ],
   "source": [
    "keywords = cluster_pipe5['vectorize'].get_feature_names()\n",
    "\n",
    "politics = np.array(cluster_pipe5['cluster'].cluster_centers_[4])\n",
    "tech = np.array(cluster_pipe5['cluster'].cluster_centers_[2])\n",
    "entertainment = np.array(cluster_pipe5['cluster'].cluster_centers_[3])\n",
    "sport = np.array(cluster_pipe5['cluster'].cluster_centers_[0])\n",
    "business = np.array(cluster_pipe5['cluster'].cluster_centers_[1])\n",
    "\n",
    "techMax = np.argmax(tech)\n",
    "sportMax = np.argmax(sport)\n",
    "businessMax = np.argmax(business)\n",
    "politicsMax = np.argmax(politics)\n",
    "entertainmentMax = np.argmax(entertainment)\n",
    "\n",
    "keywords[techMax]\n",
    "keywords[sportMax]\n",
    "keywords[businessMax]\n",
    "keywords[politicsMax]\n",
    "keywords[entertainmentMax]\n",
    "\n",
    "print(\"The top word for tech in the 5 cluster is: \" + keywords[techMax] )\n",
    "print(\"The top word for sports in the 5 cluster is: \" + keywords[sportMax] )\n",
    "print(\"The top word for business in the 5 cluster is: \" + keywords[businessMax] )\n",
    "print(\"The top word for politics in the 5 cluster is: \" + keywords[politicsMax] )\n",
    "print(\"The top word for entertainment in the 5 cluster is: \" + keywords[entertainmentMax] )"
   ]
  },
  {
   "cell_type": "code",
   "execution_count": 31,
   "metadata": {},
   "outputs": [
    {
     "name": "stdout",
     "output_type": "stream",
     "text": [
      "The top word for tech in the 6 cluster is: mobile\n",
      "The top word for sports in the 6 cluster is: said\n",
      "The top word for business in the 6 cluster is: said\n",
      "The top word for politics in the 6 cluster is: mr\n",
      "The top word for entertainment in the 6 cluster is: film\n"
     ]
    }
   ],
   "source": [
    "keywords = cluster_pipe6['vectorize'].get_feature_names()\n",
    "\n",
    "tech = np.array(cluster_pipe6['cluster'].cluster_centers_[3])\n",
    "politics = np.array(cluster_pipe6['cluster'].cluster_centers_[1])\n",
    "sport = np.array(cluster_pipe6['cluster'].cluster_centers_[4])\n",
    "business = np.array(cluster_pipe6['cluster'].cluster_centers_[4])\n",
    "entertainment = np.array(cluster_pipe6['cluster'].cluster_centers_[0])\n",
    "\n",
    "techMax = np.argmax(tech)\n",
    "sportMax = np.argmax(sport)\n",
    "businessMax = np.argmax(business)\n",
    "politicsMax = np.argmax(politics)\n",
    "entertainmentMax = np.argmax(entertainment)\n",
    "\n",
    "keywords[techMax]\n",
    "keywords[sportMax]\n",
    "keywords[businessMax]\n",
    "keywords[politicsMax]\n",
    "keywords[entertainmentMax]\n",
    "\n",
    "print(\"The top word for tech in the 6 cluster is: \" + keywords[techMax] )\n",
    "print(\"The top word for sports in the 6 cluster is: \" + keywords[sportMax] )\n",
    "print(\"The top word for business in the 6 cluster is: \" + keywords[businessMax] )\n",
    "print(\"The top word for politics in the 6 cluster is: \" + keywords[politicsMax] )\n",
    "print(\"The top word for entertainment in the 6 cluster is: \" + keywords[entertainmentMax] )"
   ]
  },
  {
   "cell_type": "markdown",
   "metadata": {},
   "source": [
    " *Do these words make sense in light of the documents in that cluster?*\n",
    " \n",
    " I think that the 5 cluster words make a fair amount of sense, and the 6 cluster words mostly echo that. I also think that these top words are interesting, and reflect the nature of these articles. Mobile makes a lot of sense for tech, as that is a burgeoning field of technology. Game seems intuitive for sports, because sports games. I can see how said is an important word in the field of business, as business seems to be based a lot on what people have said! Mr also makes sense for politics, if only for the fact that a lot of politicians are Mr. so and so. What is interesting is the said in both business and sports, which makes me think there are probably a lot of interviews."
   ]
  },
  {
   "cell_type": "markdown",
   "metadata": {},
   "source": [
    "# Reflection"
   ]
  },
  {
   "cell_type": "markdown",
   "metadata": {},
   "source": [
    "*Write 2–3 paragraphs about what you learned from this assignment. Please be specific — I would like you to reflect on particular things you learned about text classification or clustering, or about this data, and not just say general things about learning about text. What surprised you in this project?*"
   ]
  },
  {
   "cell_type": "markdown",
   "metadata": {},
   "source": [
    "One of the primary take aways from this assignment is the power of a naive Bayes classifier performing classification on text. I have noticed very similar results in some of my own research, which makes me question how effective this kind of classifier can be. I also wonder how this effectiveness changes when we increase the size of the data set, or change the features to not be unigram, but bigram or trigram as well. I think that increasing the size of the data set would require a different n-gram other than uni, because it would increase the occurence of certain words? But, I could also seeing it having the reverse effect. I think that there could definitely be an issue with overfitting using NBC. Maybe using cross validation would help with this.\n",
    "\n",
    "Another take-away is the impact that cross validation can have. When looking at the grid search, we see that the results on the training data is a bit lower, but I suspect this is due to the training data being split into a further subset of test and train in the process of cross validation. However, I think that cross validation can help with preventing over fitting, which is an important trait. I suppose that I am aware of that, in theory, but had not seen it executed in practice. Also, we see the SVD doing an impressive job of preventing overfitting, compared to the bayes and non-grid kNN. But who knows what the magical math of the svd has determined as features.\n",
    "\n",
    "However, I think the strongest takeaway from this homework assignment is the comfort, ease, and what I've learned in terms of using Seaborn. For a long time I've almost been scared of the library, not quite sure how to use it; to get it to visualize what I want it to represent. This assignment has helped to cement my skill with using this library, and also has revealed to me how powerful this library can be. I was so relieved that sns.pairplot didn't require a declaration of X value if there are numerically labeled columns. What a relief! By this assignment, I have finally learned how to use sns comfortably."
   ]
  }
 ],
 "metadata": {
  "kernelspec": {
   "display_name": "Python 3",
   "language": "python",
   "name": "python3"
  },
  "language_info": {
   "codemirror_mode": {
    "name": "ipython",
    "version": 3
   },
   "file_extension": ".py",
   "mimetype": "text/x-python",
   "name": "python",
   "nbconvert_exporter": "python",
   "pygments_lexer": "ipython3",
   "version": "3.7.9"
  }
 },
 "nbformat": 4,
 "nbformat_minor": 4
}
