{
 "cells": [
  {
   "cell_type": "code",
   "execution_count": 1,
   "metadata": {},
   "outputs": [],
   "source": [
    "import pandas as pd\n",
    "import matplotlib as plot\n",
    "import seaborn as sns\n",
    "import numpy as np\n",
    "import matplotlib.pyplot as plt\n",
    "import statsmodels.api as sm\n",
    "from sklearn.linear_model import LogisticRegression, LogisticRegressionCV\n",
    "from sklearn.pipeline import Pipeline\n",
    "from sklearn.preprocessing import StandardScaler, PowerTransformer\n",
    "from sklearn.metrics import precision_score, accuracy_score, roc_curve, recall_score\n",
    "from sklearn.metrics import confusion_matrix\n",
    "from sklearn.ensemble import RandomForestClassifier\n"
   ]
  },
  {
   "cell_type": "markdown",
   "metadata": {},
   "source": [
    "# Data Prep and Exploration"
   ]
  },
  {
   "cell_type": "markdown",
   "metadata": {},
   "source": [
    "Load the data and do your initial preparation. \n",
    "1. How many observations and variables do you have?\n",
    "2. Select a 25% sample of the data for use in testing.\n",
    "3. Describe the distribution of the outcome variable. What is the majority class?\n",
    "4. What is the accuracy, precision, and recall of the majority-class classifier on the test data?\n",
    "5. Identify some variables that, based on your understanding and reading (e.g. the source paper!) are likely to be useful for predicting default. Describe them, your motivation, their distribution, and their relationship to outcomes (in the training data). Do feature transformations you find useful here as well. You may need to create interaction features, or do other feature transformations.\n"
   ]
  },
  {
   "cell_type": "code",
   "execution_count": 2,
   "metadata": {},
   "outputs": [
    {
     "name": "stderr",
     "output_type": "stream",
     "text": [
      "/Users/bl4z3/miniconda3/lib/python3.7/site-packages/IPython/core/interactiveshell.py:3146: DtypeWarning: Columns (9) have mixed types.Specify dtype option on import or set low_memory=False.\n",
      "  interactivity=interactivity, compiler=compiler, result=result)\n"
     ]
    }
   ],
   "source": [
    "case = pd.read_csv('SBAcase.11.13.17.csv')  ##subset of national\n",
    "national = pd.read_csv('SBAnational.csv', encoding='latin1')     ##Historical data from 1987-2014"
   ]
  },
  {
   "cell_type": "markdown",
   "metadata": {},
   "source": [
    "*1. How many observations and variables do you have?*\n",
    "\n",
    "Looking at the cell below, we can see that we have 899164 observations across 27 variables."
   ]
  },
  {
   "cell_type": "code",
   "execution_count": 3,
   "metadata": {},
   "outputs": [
    {
     "name": "stdout",
     "output_type": "stream",
     "text": [
      "<class 'pandas.core.frame.DataFrame'>\n",
      "RangeIndex: 899164 entries, 0 to 899163\n",
      "Data columns (total 27 columns):\n",
      " #   Column             Non-Null Count   Dtype  \n",
      "---  ------             --------------   -----  \n",
      " 0   LoanNr_ChkDgt      899164 non-null  int64  \n",
      " 1   Name               899150 non-null  object \n",
      " 2   City               899134 non-null  object \n",
      " 3   State              899150 non-null  object \n",
      " 4   Zip                899164 non-null  int64  \n",
      " 5   Bank               897605 non-null  object \n",
      " 6   BankState          897598 non-null  object \n",
      " 7   NAICS              899164 non-null  int64  \n",
      " 8   ApprovalDate       899164 non-null  object \n",
      " 9   ApprovalFY         899164 non-null  object \n",
      " 10  Term               899164 non-null  int64  \n",
      " 11  NoEmp              899164 non-null  int64  \n",
      " 12  NewExist           899028 non-null  float64\n",
      " 13  CreateJob          899164 non-null  int64  \n",
      " 14  RetainedJob        899164 non-null  int64  \n",
      " 15  FranchiseCode      899164 non-null  int64  \n",
      " 16  UrbanRural         899164 non-null  int64  \n",
      " 17  RevLineCr          894636 non-null  object \n",
      " 18  LowDoc             896582 non-null  object \n",
      " 19  ChgOffDate         162699 non-null  object \n",
      " 20  DisbursementDate   896796 non-null  object \n",
      " 21  DisbursementGross  899164 non-null  object \n",
      " 22  BalanceGross       899164 non-null  object \n",
      " 23  MIS_Status         897167 non-null  object \n",
      " 24  ChgOffPrinGr       899164 non-null  object \n",
      " 25  GrAppv             899164 non-null  object \n",
      " 26  SBA_Appv           899164 non-null  object \n",
      "dtypes: float64(1), int64(9), object(17)\n",
      "memory usage: 185.2+ MB\n"
     ]
    }
   ],
   "source": [
    "national.info()"
   ]
  },
  {
   "cell_type": "markdown",
   "metadata": {},
   "source": [
    "*2. Select a 25% sample of the data for use in testing.*"
   ]
  },
  {
   "cell_type": "code",
   "execution_count": 4,
   "metadata": {},
   "outputs": [
    {
     "data": {
      "text/html": [
       "<div>\n",
       "<style scoped>\n",
       "    .dataframe tbody tr th:only-of-type {\n",
       "        vertical-align: middle;\n",
       "    }\n",
       "\n",
       "    .dataframe tbody tr th {\n",
       "        vertical-align: top;\n",
       "    }\n",
       "\n",
       "    .dataframe thead th {\n",
       "        text-align: right;\n",
       "    }\n",
       "</style>\n",
       "<table border=\"1\" class=\"dataframe\">\n",
       "  <thead>\n",
       "    <tr style=\"text-align: right;\">\n",
       "      <th></th>\n",
       "      <th>LoanNr_ChkDgt</th>\n",
       "      <th>Name</th>\n",
       "      <th>City</th>\n",
       "      <th>State</th>\n",
       "      <th>Zip</th>\n",
       "      <th>Bank</th>\n",
       "      <th>BankState</th>\n",
       "      <th>NAICS</th>\n",
       "      <th>ApprovalDate</th>\n",
       "      <th>ApprovalFY</th>\n",
       "      <th>...</th>\n",
       "      <th>RevLineCr</th>\n",
       "      <th>LowDoc</th>\n",
       "      <th>ChgOffDate</th>\n",
       "      <th>DisbursementDate</th>\n",
       "      <th>DisbursementGross</th>\n",
       "      <th>BalanceGross</th>\n",
       "      <th>MIS_Status</th>\n",
       "      <th>ChgOffPrinGr</th>\n",
       "      <th>GrAppv</th>\n",
       "      <th>SBA_Appv</th>\n",
       "    </tr>\n",
       "  </thead>\n",
       "  <tbody>\n",
       "    <tr>\n",
       "      <th>0</th>\n",
       "      <td>1000014003</td>\n",
       "      <td>ABC HOBBYCRAFT</td>\n",
       "      <td>EVANSVILLE</td>\n",
       "      <td>IN</td>\n",
       "      <td>47711</td>\n",
       "      <td>FIFTH THIRD BANK</td>\n",
       "      <td>OH</td>\n",
       "      <td>451120</td>\n",
       "      <td>28-Feb-97</td>\n",
       "      <td>1997</td>\n",
       "      <td>...</td>\n",
       "      <td>N</td>\n",
       "      <td>Y</td>\n",
       "      <td>NaN</td>\n",
       "      <td>28-Feb-99</td>\n",
       "      <td>$60,000.00</td>\n",
       "      <td>$0.00</td>\n",
       "      <td>P I F</td>\n",
       "      <td>$0.00</td>\n",
       "      <td>$60,000.00</td>\n",
       "      <td>$48,000.00</td>\n",
       "    </tr>\n",
       "    <tr>\n",
       "      <th>1</th>\n",
       "      <td>1000024006</td>\n",
       "      <td>LANDMARK BAR &amp; GRILLE (THE)</td>\n",
       "      <td>NEW PARIS</td>\n",
       "      <td>IN</td>\n",
       "      <td>46526</td>\n",
       "      <td>1ST SOURCE BANK</td>\n",
       "      <td>IN</td>\n",
       "      <td>722410</td>\n",
       "      <td>28-Feb-97</td>\n",
       "      <td>1997</td>\n",
       "      <td>...</td>\n",
       "      <td>N</td>\n",
       "      <td>Y</td>\n",
       "      <td>NaN</td>\n",
       "      <td>31-May-97</td>\n",
       "      <td>$40,000.00</td>\n",
       "      <td>$0.00</td>\n",
       "      <td>P I F</td>\n",
       "      <td>$0.00</td>\n",
       "      <td>$40,000.00</td>\n",
       "      <td>$32,000.00</td>\n",
       "    </tr>\n",
       "    <tr>\n",
       "      <th>2</th>\n",
       "      <td>1000034009</td>\n",
       "      <td>WHITLOCK DDS, TODD M.</td>\n",
       "      <td>BLOOMINGTON</td>\n",
       "      <td>IN</td>\n",
       "      <td>47401</td>\n",
       "      <td>GRANT COUNTY STATE BANK</td>\n",
       "      <td>IN</td>\n",
       "      <td>621210</td>\n",
       "      <td>28-Feb-97</td>\n",
       "      <td>1997</td>\n",
       "      <td>...</td>\n",
       "      <td>N</td>\n",
       "      <td>N</td>\n",
       "      <td>NaN</td>\n",
       "      <td>31-Dec-97</td>\n",
       "      <td>$287,000.00</td>\n",
       "      <td>$0.00</td>\n",
       "      <td>P I F</td>\n",
       "      <td>$0.00</td>\n",
       "      <td>$287,000.00</td>\n",
       "      <td>$215,250.00</td>\n",
       "    </tr>\n",
       "    <tr>\n",
       "      <th>4</th>\n",
       "      <td>1000054004</td>\n",
       "      <td>ANASTASIA CONFECTIONS, INC.</td>\n",
       "      <td>ORLANDO</td>\n",
       "      <td>FL</td>\n",
       "      <td>32801</td>\n",
       "      <td>FLORIDA BUS. DEVEL CORP</td>\n",
       "      <td>FL</td>\n",
       "      <td>0</td>\n",
       "      <td>28-Feb-97</td>\n",
       "      <td>1997</td>\n",
       "      <td>...</td>\n",
       "      <td>N</td>\n",
       "      <td>N</td>\n",
       "      <td>NaN</td>\n",
       "      <td>14-May-97</td>\n",
       "      <td>$229,000.00</td>\n",
       "      <td>$0.00</td>\n",
       "      <td>P I F</td>\n",
       "      <td>$0.00</td>\n",
       "      <td>$229,000.00</td>\n",
       "      <td>$229,000.00</td>\n",
       "    </tr>\n",
       "    <tr>\n",
       "      <th>5</th>\n",
       "      <td>1000084002</td>\n",
       "      <td>B&amp;T SCREW MACHINE COMPANY, INC</td>\n",
       "      <td>PLAINVILLE</td>\n",
       "      <td>CT</td>\n",
       "      <td>6062</td>\n",
       "      <td>TD BANK, NATIONAL ASSOCIATION</td>\n",
       "      <td>DE</td>\n",
       "      <td>332721</td>\n",
       "      <td>28-Feb-97</td>\n",
       "      <td>1997</td>\n",
       "      <td>...</td>\n",
       "      <td>N</td>\n",
       "      <td>N</td>\n",
       "      <td>NaN</td>\n",
       "      <td>30-Jun-97</td>\n",
       "      <td>$517,000.00</td>\n",
       "      <td>$0.00</td>\n",
       "      <td>P I F</td>\n",
       "      <td>$0.00</td>\n",
       "      <td>$517,000.00</td>\n",
       "      <td>$387,750.00</td>\n",
       "    </tr>\n",
       "  </tbody>\n",
       "</table>\n",
       "<p>5 rows × 27 columns</p>\n",
       "</div>"
      ],
      "text/plain": [
       "   LoanNr_ChkDgt                            Name         City State    Zip  \\\n",
       "0     1000014003                  ABC HOBBYCRAFT   EVANSVILLE    IN  47711   \n",
       "1     1000024006     LANDMARK BAR & GRILLE (THE)    NEW PARIS    IN  46526   \n",
       "2     1000034009           WHITLOCK DDS, TODD M.  BLOOMINGTON    IN  47401   \n",
       "4     1000054004     ANASTASIA CONFECTIONS, INC.      ORLANDO    FL  32801   \n",
       "5     1000084002  B&T SCREW MACHINE COMPANY, INC   PLAINVILLE    CT   6062   \n",
       "\n",
       "                            Bank BankState   NAICS ApprovalDate ApprovalFY  \\\n",
       "0               FIFTH THIRD BANK        OH  451120    28-Feb-97       1997   \n",
       "1                1ST SOURCE BANK        IN  722410    28-Feb-97       1997   \n",
       "2        GRANT COUNTY STATE BANK        IN  621210    28-Feb-97       1997   \n",
       "4        FLORIDA BUS. DEVEL CORP        FL       0    28-Feb-97       1997   \n",
       "5  TD BANK, NATIONAL ASSOCIATION        DE  332721    28-Feb-97       1997   \n",
       "\n",
       "   ...  RevLineCr  LowDoc  ChgOffDate  DisbursementDate  DisbursementGross  \\\n",
       "0  ...          N       Y         NaN         28-Feb-99        $60,000.00    \n",
       "1  ...          N       Y         NaN         31-May-97        $40,000.00    \n",
       "2  ...          N       N         NaN         31-Dec-97       $287,000.00    \n",
       "4  ...          N       N         NaN         14-May-97       $229,000.00    \n",
       "5  ...          N       N         NaN         30-Jun-97       $517,000.00    \n",
       "\n",
       "   BalanceGross  MIS_Status ChgOffPrinGr        GrAppv      SBA_Appv  \n",
       "0        $0.00        P I F       $0.00    $60,000.00    $48,000.00   \n",
       "1        $0.00        P I F       $0.00    $40,000.00    $32,000.00   \n",
       "2        $0.00        P I F       $0.00   $287,000.00   $215,250.00   \n",
       "4        $0.00        P I F       $0.00   $229,000.00   $229,000.00   \n",
       "5        $0.00        P I F       $0.00   $517,000.00   $387,750.00   \n",
       "\n",
       "[5 rows x 27 columns]"
      ]
     },
     "execution_count": 4,
     "metadata": {},
     "output_type": "execute_result"
    }
   ],
   "source": [
    "rng = np.random.RandomState(20201031)\n",
    "test = national.sample(frac=0.25, random_state=rng)\n",
    "train_mask = pd.Series(True, index=national.index)\n",
    "train_mask[test.index] = False\n",
    "train = national[train_mask].copy()\n",
    "train.head()"
   ]
  },
  {
   "cell_type": "markdown",
   "metadata": {},
   "source": [
    "*3. Describe the distribution of the outcome variable. What is the majority class?*\n",
    "\n",
    "In this instance, 0 is paid in full, while 1 is charged off. When performing further operations, we can see that approximately 69% of the test cases have paid off the loan, while approximately 31% defaulated"
   ]
  },
  {
   "cell_type": "code",
   "execution_count": 5,
   "metadata": {},
   "outputs": [
    {
     "data": {
      "text/plain": [
       "P I F     184948\n",
       "CHGOFF     39336\n",
       "Name: MIS_Status, dtype: int64"
      ]
     },
     "execution_count": 5,
     "metadata": {},
     "output_type": "execute_result"
    }
   ],
   "source": [
    "test.MIS_Status.value_counts()"
   ]
  },
  {
   "cell_type": "code",
   "execution_count": 6,
   "metadata": {},
   "outputs": [
    {
     "data": {
      "text/plain": [
       "P I F     0.824615\n",
       "CHGOFF    0.175385\n",
       "Name: MIS_Status, dtype: float64"
      ]
     },
     "execution_count": 6,
     "metadata": {},
     "output_type": "execute_result"
    }
   ],
   "source": [
    "test.MIS_Status.value_counts()/test.MIS_Status.count()"
   ]
  },
  {
   "cell_type": "markdown",
   "metadata": {},
   "source": [
    "*4. What is the accuracy, precision, and recall of the majority-class classifier on the test data?*"
   ]
  },
  {
   "cell_type": "code",
   "execution_count": 7,
   "metadata": {},
   "outputs": [],
   "source": [
    "## TP = 184948 FP = 39336\n",
    "## TN = 0 FN = 0\n",
    "## Acc = (TP + TN)/(TP + FP + TN + FN)\n",
    "## 184948/(184948+39336)\n",
    "## Precision = TP/(TP + FP)\n",
    "## 184948/(184948+39336)\n",
    "## Recall = TP / (TP+FN)\n",
    "## 184948/184948"
   ]
  },
  {
   "cell_type": "markdown",
   "metadata": {},
   "source": [
    "*5. Identify some variables that, based on your understanding and reading (e.g. the source paper!) are likely to be useful for predicting default. Describe them, your motivation, their distribution, and their relationship to outcomes (in the training data). Do feature transformations you find useful here as well. You may need to create interaction features, or do other feature transformations.*"
   ]
  },
  {
   "cell_type": "markdown",
   "metadata": {},
   "source": [
    "When reading through the paper, we can see 7 variables that have been identified as relating to risk. \n",
    "\n",
    "1. Location(state)\n",
    "2. Industry(NAICS)\n",
    "3. Gross Disbursement (DisbursementGross)\n",
    "4. Loans Backed By Real Estate(RealEstate)\n",
    "5. Economic Recession(Recession)\n",
    "6. SAB's Guaranteed Portion of Approved Loan(SBA_Appv)\n",
    "7. New or Existing Businesses"
   ]
  },
  {
   "cell_type": "markdown",
   "metadata": {},
   "source": [
    "## Location"
   ]
  },
  {
   "cell_type": "markdown",
   "metadata": {},
   "source": [
    "This variable seeks to not only define location, but specifically looks at location based on state (rather than city, or zipcode). I think that this variable is important, because looking at the default rate across states, we can see it is not uniform. Also, the recession impacted states differently."
   ]
  },
  {
   "cell_type": "code",
   "execution_count": 8,
   "metadata": {},
   "outputs": [],
   "source": [
    "states = {\n",
    "        'AK': 1,\n",
    "        'AL': 2,\n",
    "        'AR': 3,\n",
    "        'AS': 4,\n",
    "        'AZ': 5,\n",
    "        'CA': 6,\n",
    "        'CO': 7,\n",
    "        'CT': 8,\n",
    "        'DC': 9,\n",
    "        'DE': 10,\n",
    "        'FL': 11,\n",
    "        'GA': 12,\n",
    "        'GU': 13,\n",
    "        'HI': 14,\n",
    "        'IA': 15,\n",
    "        'ID': 16,\n",
    "        'IL': 17,\n",
    "        'IN': 18,\n",
    "        'KS': 19,\n",
    "        'KY': 20,\n",
    "        'LA': 21,\n",
    "        'MA': 22,\n",
    "        'MD': 23,\n",
    "        'ME': 24,\n",
    "        'MI': 25,\n",
    "        'MN': 26,\n",
    "        'MO': 27,\n",
    "        'MP': 28,\n",
    "        'MS': 29,\n",
    "        'MT': 30,\n",
    "        'NA': 31,\n",
    "        'NC': 32,\n",
    "        'ND': 33,\n",
    "        'NE': 34,\n",
    "        'NH': 35,\n",
    "        'NJ': 36,\n",
    "        'NM': 37,\n",
    "        'NV': 38,\n",
    "        'NY': 39,\n",
    "        'OH': 40,\n",
    "        'OK': 41,\n",
    "        'OR': 42,\n",
    "        'PA': 43,\n",
    "        'PR': 44,\n",
    "        'RI': 45,\n",
    "        'SC': 46,\n",
    "        'SD': 47,\n",
    "        'TN': 48,\n",
    "        'TX': 49,\n",
    "        'UT': 50,\n",
    "        'VA': 51,\n",
    "        'VI': 52,\n",
    "        'VT': 53,\n",
    "        'WA': 54,\n",
    "        'WI': 55,\n",
    "        'WV': 56,\n",
    "        'WY': 57\n",
    "}"
   ]
  },
  {
   "cell_type": "code",
   "execution_count": 9,
   "metadata": {},
   "outputs": [],
   "source": [
    "def state_to_num(state):\n",
    "    if state == state:\n",
    "        return states[state]\n",
    "    else:\n",
    "        return 0\n",
    "\n",
    "\n",
    "test['StateNum'] = test['State'].apply(state_to_num)\n",
    "train['StateNum'] = train['State'].apply(state_to_num)"
   ]
  },
  {
   "cell_type": "markdown",
   "metadata": {},
   "source": [
    "## Industry"
   ]
  },
  {
   "cell_type": "markdown",
   "metadata": {},
   "source": [
    "This variable looks at the industry this loan is being used in. As the paper describes, there are numerous high risk industries, like food service, and low risk industries too; like medical service. When looking at the data in this dataset, we see that all loans are dealing with real estate. To granulate this feature, we choose to take the second set of double digits to find out which parts of real estate these business are operating from."
   ]
  },
  {
   "cell_type": "code",
   "execution_count": 10,
   "metadata": {},
   "outputs": [
    {
     "data": {
      "text/plain": [
       "0       151824\n",
       "8111     24334\n",
       "7221     21070\n",
       "7222     17591\n",
       "6213     12152\n",
       "         ...  \n",
       "4862         6\n",
       "8131         5\n",
       "4861         4\n",
       "1124         1\n",
       "9251         1\n",
       "Name: modNAICS, Length: 354, dtype: int64"
      ]
     },
     "execution_count": 10,
     "metadata": {},
     "output_type": "execute_result"
    }
   ],
   "source": [
    "train['modNAICS'] = train['NAICS'].astype(str)\n",
    "train['modNAICS'] = train['modNAICS'].str.slice(0, 4)\n",
    "train['shortNAICS'] = train['modNAICS'].str.slice(0, 2)\n",
    "train.modNAICS.value_counts()"
   ]
  },
  {
   "cell_type": "code",
   "execution_count": 11,
   "metadata": {},
   "outputs": [
    {
     "data": {
      "text/plain": [
       "0       50124\n",
       "8111     8314\n",
       "7221     6919\n",
       "7222     5920\n",
       "5617     4111\n",
       "        ...  \n",
       "4862        3\n",
       "9251        3\n",
       "5232        3\n",
       "8131        1\n",
       "9271        1\n",
       "Name: modNAICS, Length: 353, dtype: int64"
      ]
     },
     "execution_count": 11,
     "metadata": {},
     "output_type": "execute_result"
    }
   ],
   "source": [
    "test['modNAICS'] = test['NAICS'].astype(str)\n",
    "test['modNAICS'] = test['modNAICS'].str.slice(0, 4)\n",
    "test['shortNAICS'] = test['modNAICS'].str.slice(0, 2)\n",
    "test.modNAICS.value_counts()"
   ]
  },
  {
   "cell_type": "markdown",
   "metadata": {},
   "source": [
    "## Gross Disbursement"
   ]
  },
  {
   "cell_type": "markdown",
   "metadata": {},
   "source": [
    "The idea of this being a risk evaluator is that, if a business qualifies for a larger loan, it bears to reason that they are more likely to succeed, as they have financial backing."
   ]
  },
  {
   "cell_type": "code",
   "execution_count": 12,
   "metadata": {},
   "outputs": [],
   "source": [
    "test.DisbursementGross.value_counts()\n",
    "test['DGMod'] = (test['DisbursementGross'].replace( '[\\$,)]','', regex=True )).astype(float)\n",
    "train['DGMod'] = (train['DisbursementGross'].replace( '[\\$,)]','', regex=True )).astype(float)"
   ]
  },
  {
   "cell_type": "markdown",
   "metadata": {},
   "source": [
    "## Economic Recession"
   ]
  },
  {
   "cell_type": "markdown",
   "metadata": {},
   "source": [
    "Whether or not a loan was issued during the great recession. Since this does not appear automatically, but rather must be transformed from DisbursementDate. Also, since these loans typically have a deadline of 5 years to pay off, anything generated within 5 years of the last entry should be removed."
   ]
  },
  {
   "cell_type": "code",
   "execution_count": 13,
   "metadata": {},
   "outputs": [
    {
     "data": {
      "text/plain": [
       "224791"
      ]
     },
     "execution_count": 13,
     "metadata": {},
     "output_type": "execute_result"
    }
   ],
   "source": [
    "len(test)"
   ]
  },
  {
   "cell_type": "code",
   "execution_count": 14,
   "metadata": {},
   "outputs": [],
   "source": [
    "from datetime import datetime\n",
    "dates = train['DisbursementDate']\n",
    "DateTime = []\n",
    "TimeStamp = []\n",
    "for entry in dates:\n",
    "    if entry == entry :\n",
    "        DateTime.append(datetime.strptime(entry, '%d-%b-%y'))\n",
    "        TimeStamp.append(datetime.timestamp(datetime.strptime(entry, '%d-%b-%y')))\n",
    "    else:\n",
    "        DateTime.append(0)\n",
    "        TimeStamp.append(0)\n",
    "train['ModDate'] = DateTime\n",
    "train['TimeStamp'] = TimeStamp\n",
    "Start = datetime.strptime('2007-12-01', '%Y-%m-%d')\n",
    "End = datetime.strptime('2009-06-30', '%Y-%m-%d')\n",
    "StartTS = datetime.timestamp(Start)\n",
    "EndTS = datetime.timestamp(End)\n",
    "train['Recession'] = (train.TimeStamp > StartTS) & (train.TimeStamp <EndTS )"
   ]
  },
  {
   "cell_type": "code",
   "execution_count": 15,
   "metadata": {},
   "outputs": [
    {
     "data": {
      "text/plain": [
       "False    636513\n",
       "True      37860\n",
       "Name: Recession, dtype: int64"
      ]
     },
     "execution_count": 15,
     "metadata": {},
     "output_type": "execute_result"
    }
   ],
   "source": [
    "train.Recession.value_counts()"
   ]
  },
  {
   "cell_type": "code",
   "execution_count": 16,
   "metadata": {},
   "outputs": [],
   "source": [
    "from datetime import datetime\n",
    "dates = test['DisbursementDate']\n",
    "DateTime = []\n",
    "TimeStamp = []\n",
    "for entry in dates:\n",
    "    if entry == entry:\n",
    "        DateTime.append(datetime.strptime(entry, '%d-%b-%y'))\n",
    "        TimeStamp.append(datetime.timestamp(datetime.strptime(entry, '%d-%b-%y')))\n",
    "    else:\n",
    "        DateTime.append(0)\n",
    "        TimeStamp.append(0)\n",
    "test['ModDate'] = DateTime\n",
    "test['TimeStamp'] = TimeStamp\n",
    "## label all entries occuring in great recession\n",
    "## Dec. 1, 2007 to June 30, 2009\n",
    "Start = datetime.strptime('2007-12-01', '%Y-%m-%d')\n",
    "End = datetime.strptime('2009-06-30', '%Y-%m-%d')\n",
    "StartTS = datetime.timestamp(Start)\n",
    "EndTS = datetime.timestamp(End)\n",
    "test['Recession'] = (test.TimeStamp > StartTS) & (test.TimeStamp <EndTS )"
   ]
  },
  {
   "cell_type": "code",
   "execution_count": 17,
   "metadata": {},
   "outputs": [
    {
     "data": {
      "text/plain": [
       "False    212065\n",
       "True      12726\n",
       "Name: Recession, dtype: int64"
      ]
     },
     "execution_count": 17,
     "metadata": {},
     "output_type": "execute_result"
    }
   ],
   "source": [
    "test.Recession.value_counts()"
   ]
  },
  {
   "cell_type": "markdown",
   "metadata": {},
   "source": [
    "## Backed By Real Estate"
   ]
  },
  {
   "cell_type": "markdown",
   "metadata": {},
   "source": [
    "The paper demonstrates that loans backed by real estate default less, based on the idea that the real estate can be sold to reimburse the loan. However, we will have to preprocess the data in order to do this, based on Term (as real estate backed loans have terms greater than 240 months, typically)."
   ]
  },
  {
   "cell_type": "code",
   "execution_count": 18,
   "metadata": {},
   "outputs": [
    {
     "data": {
      "text/plain": [
       "False    186713\n",
       "True      38078\n",
       "Name: RealEstate, dtype: int64"
      ]
     },
     "execution_count": 18,
     "metadata": {},
     "output_type": "execute_result"
    }
   ],
   "source": [
    "test['RealEstate'] = test.Term >= 240\n",
    "test.RealEstate.value_counts()"
   ]
  },
  {
   "cell_type": "code",
   "execution_count": 19,
   "metadata": {},
   "outputs": [
    {
     "data": {
      "text/plain": [
       "False    560294\n",
       "True     114079\n",
       "Name: RealEstate, dtype: int64"
      ]
     },
     "execution_count": 19,
     "metadata": {},
     "output_type": "execute_result"
    }
   ],
   "source": [
    "train['RealEstate'] = train.Term >= 240\n",
    "train.RealEstate.value_counts()"
   ]
  },
  {
   "cell_type": "markdown",
   "metadata": {},
   "source": [
    "# New/Existing Business\n",
    "\n",
    "While this was initially excluded from my set of features, as the paper says that it does not signifigantly impact the classification, I decided to add it to determine that for myself."
   ]
  },
  {
   "cell_type": "code",
   "execution_count": 20,
   "metadata": {},
   "outputs": [],
   "source": [
    "test['NewNewExist'] = test.NewExist.replace(0, 1)\n",
    "train['NewNewExist'] = train.NewExist.replace(0 , 1)\n",
    "\n"
   ]
  },
  {
   "cell_type": "code",
   "execution_count": 21,
   "metadata": {},
   "outputs": [
    {
     "data": {
      "text/plain": [
       "1.0    484502\n",
       "2.0    189774\n",
       "Name: NewNewExist, dtype: int64"
      ]
     },
     "execution_count": 21,
     "metadata": {},
     "output_type": "execute_result"
    }
   ],
   "source": [
    "train.NewNewExist.value_counts() \n"
   ]
  },
  {
   "cell_type": "code",
   "execution_count": 22,
   "metadata": {},
   "outputs": [],
   "source": [
    "test['NewNewExist'] = test.NewNewExist.replace(1, 0)\n",
    "train['NewNewExist'] = train.NewNewExist.replace(1, 0)\n",
    "test['NewNewExist'] = test.NewNewExist.replace(2, 1)\n",
    "train['NewNewExist'] = train.NewNewExist.replace(2, 1)"
   ]
  },
  {
   "cell_type": "code",
   "execution_count": 23,
   "metadata": {},
   "outputs": [],
   "source": [
    "test['NewNewExist'] = test['NewNewExist'].fillna(0)\n",
    "train['NewNewExist'] = train['NewNewExist'].fillna(0)"
   ]
  },
  {
   "cell_type": "markdown",
   "metadata": {},
   "source": [
    "## SBA's Guaranteed Portion of Approved Loan"
   ]
  },
  {
   "cell_type": "markdown",
   "metadata": {},
   "source": [
    "This deals with the amount that the SBA approves, compared to the gross amount approved by the bank. I don't know why this is a feature, but it is shown to be important in the paper"
   ]
  },
  {
   "cell_type": "code",
   "execution_count": 24,
   "metadata": {},
   "outputs": [],
   "source": [
    "from re import sub\n",
    "from decimal import Decimal\n",
    "import numpy as np\n",
    "\n",
    "SBBA = train.SBA_Appv\n",
    "SBBAList = []\n",
    "for entry in SBBA:\n",
    "    SBBAList.append(Decimal(sub(r'[^\\d.]', '', entry)))\n",
    "SBBAList = np.array(SBBAList)\n",
    "GA = train.GrAppv\n",
    "GAList = []\n",
    "for entry in GA:\n",
    "    GAList.append(Decimal(sub(r'[^\\d.]', '', entry)))\n",
    "GAList = np.array(GAList)\n",
    "    \n",
    "train['SBAPortion'] = pd.Series(SBBAList) / pd.Series(GAList) \n",
    "train['SBAPortion'] = train['SBAPortion'].fillna(0)"
   ]
  },
  {
   "cell_type": "code",
   "execution_count": 25,
   "metadata": {},
   "outputs": [],
   "source": [
    "from re import sub\n",
    "from decimal import Decimal\n",
    "import numpy as np\n",
    "\n",
    "SBBA = test.SBA_Appv\n",
    "SBBAList = []\n",
    "for entry in SBBA:\n",
    "    SBBAList.append(Decimal(sub(r'[^\\d.]', '', entry)))\n",
    "SBBAList = np.array(SBBAList)\n",
    "GA = test.GrAppv\n",
    "GAList = []\n",
    "for entry in GA:\n",
    "    GAList.append(Decimal(sub(r'[^\\d.]', '', entry)))\n",
    "GAList = np.array(GAList)\n",
    "    \n",
    "test['SBAPortion'] = pd.Series(SBBAList) / pd.Series(GAList) \n",
    "test['SBAPortion'] = test['SBAPortion'].fillna(0)"
   ]
  },
  {
   "cell_type": "code",
   "execution_count": 26,
   "metadata": {},
   "outputs": [
    {
     "data": {
      "text/plain": [
       "143344    0.82\n",
       "122707     0.9\n",
       "773187       0\n",
       "643105       0\n",
       "121661     0.9\n",
       "44592        1\n",
       "603535       0\n",
       "176043     0.5\n",
       "506270       0\n",
       "473304       0\n",
       "838069       0\n",
       "328728       0\n",
       "749959       0\n",
       "366684       0\n",
       "36495     0.75\n",
       "334144       0\n",
       "360109       0\n",
       "319832       0\n",
       "488520       0\n",
       "6818       0.9\n",
       "251953       0\n",
       "573842       0\n",
       "614542       0\n",
       "50322      0.5\n",
       "520628       0\n",
       "475164       0\n",
       "519453       0\n",
       "656243       0\n",
       "435105       0\n",
       "53865     0.75\n",
       "190809    0.75\n",
       "727459       0\n",
       "375868       0\n",
       "853594       0\n",
       "365772       0\n",
       "259213       0\n",
       "317131       0\n",
       "802400       0\n",
       "401264       0\n",
       "494287       0\n",
       "140331    0.75\n",
       "386908       0\n",
       "245553       0\n",
       "248570       0\n",
       "520868       0\n",
       "131946     0.5\n",
       "276047       0\n",
       "558257       0\n",
       "855691       0\n",
       "350272       0\n",
       "Name: SBAPortion, dtype: object"
      ]
     },
     "execution_count": 26,
     "metadata": {},
     "output_type": "execute_result"
    }
   ],
   "source": [
    "test['SBAPortion'].head(50)"
   ]
  },
  {
   "cell_type": "markdown",
   "metadata": {},
   "source": [
    "## Extraneous Preprocessing"
   ]
  },
  {
   "cell_type": "markdown",
   "metadata": {},
   "source": [
    "In order to make this dataset classifiable, we have to convert the MIS_Status to a binary value."
   ]
  },
  {
   "cell_type": "code",
   "execution_count": 27,
   "metadata": {},
   "outputs": [],
   "source": [
    "test['Default'] = test['MIS_Status'] == 'P I F'\n",
    "test['Default'] = test.Default.replace(True, 1)\n",
    "train['Default'] = train['MIS_Status'] == 'P I F'\n",
    "train['Default'] = train.Default.replace(True, 1)"
   ]
  },
  {
   "cell_type": "code",
   "execution_count": 28,
   "metadata": {},
   "outputs": [
    {
     "data": {
      "text/plain": [
       "1.0    739609\n",
       "0.0    159555\n",
       "Name: Default, dtype: int64"
      ]
     },
     "execution_count": 28,
     "metadata": {},
     "output_type": "execute_result"
    }
   ],
   "source": [
    "test.Default.value_counts() + train.Default.value_counts()"
   ]
  },
  {
   "cell_type": "code",
   "execution_count": 29,
   "metadata": {},
   "outputs": [
    {
     "data": {
      "text/plain": [
       "P I F     739609\n",
       "CHGOFF    157558\n",
       "Name: MIS_Status, dtype: int64"
      ]
     },
     "execution_count": 29,
     "metadata": {},
     "output_type": "execute_result"
    }
   ],
   "source": [
    "national.MIS_Status.value_counts()"
   ]
  },
  {
   "cell_type": "markdown",
   "metadata": {},
   "source": [
    "# Subset Model"
   ]
  },
  {
   "cell_type": "markdown",
   "metadata": {},
   "source": [
    "Subset Model (15%)\n",
    "\n",
    "Subset your training and test data to only include data from California, for business with NAICS codes starting with 53 (Real Estate and Rental and Leasing).\n",
    "\n",
    "Build a logistic regression model using no more than 5 features to predict default on this subset. Likely useful features include whether it is a new business, a real estate transaction, the proportion guaranteed by SBA, and whether it was active during the recession.\n",
    "\n",
    "If you want to experiment with different features, create a tuning set that is a subset of the training set, and use it to evaluate the accuracy of your model with them. Test the final accuracy of one model on the test data using the accuracy metric."
   ]
  },
  {
   "cell_type": "code",
   "execution_count": 30,
   "metadata": {},
   "outputs": [],
   "source": [
    "subsetTest = test[test[\"State\"] == 'CA']\n",
    "subsetTest = subsetTest[subsetTest['shortNAICS'] == '53']\n",
    "subsetTrain = train[train[\"State\"] == 'CA']\n",
    "subsetTrain = subsetTrain[subsetTrain['shortNAICS'] == '53']"
   ]
  },
  {
   "cell_type": "code",
   "execution_count": 31,
   "metadata": {},
   "outputs": [],
   "source": [
    "feat_cols = ['RealEstate',\n",
    "    'Recession',\n",
    "    'shortNAICS',\n",
    "    'DGMod',\n",
    "    'SBAPortion'       ]\n",
    "out_col = 'Default'\n",
    "\n",
    "train_x = subsetTrain[feat_cols]\n",
    "train_y = subsetTrain[out_col]\n",
    "test_x = subsetTest[feat_cols]\n",
    "test_y = subsetTest[out_col]"
   ]
  },
  {
   "cell_type": "code",
   "execution_count": 32,
   "metadata": {},
   "outputs": [
    {
     "data": {
      "text/plain": [
       "1.0    0.718929\n",
       "0.0    0.281071\n",
       "Name: Default, dtype: float64"
      ]
     },
     "execution_count": 32,
     "metadata": {},
     "output_type": "execute_result"
    }
   ],
   "source": [
    "test_y.value_counts()/test_y.count()"
   ]
  },
  {
   "cell_type": "code",
   "execution_count": 33,
   "metadata": {},
   "outputs": [
    {
     "name": "stdout",
     "output_type": "stream",
     "text": [
      "0.7131931166347992\n",
      "0.739406779661017\n"
     ]
    },
    {
     "name": "stderr",
     "output_type": "stream",
     "text": [
      "/Users/bl4z3/miniconda3/lib/python3.7/site-packages/sklearn/preprocessing/_data.py:2982: RuntimeWarning: divide by zero encountered in log\n",
      "  loglike = -n_samples / 2 * np.log(x_trans.var())\n"
     ]
    }
   ],
   "source": [
    "power_pipe2 = Pipeline([\n",
    "    ('standardize', PowerTransformer()),\n",
    "    ('classify', LogisticRegression(penalty='none', solver='saga'))\n",
    "])\n",
    "\n",
    "power_pipe2.fit(train_x, train_y)\n",
    "\n",
    "print(accuracy_score(test_y, power_pipe2.predict(test_x)))\n",
    "print(precision_score(test_y, power_pipe2.predict(test_x)))"
   ]
  },
  {
   "cell_type": "markdown",
   "metadata": {},
   "source": [
    "# Full Model"
   ]
  },
  {
   "cell_type": "markdown",
   "metadata": {},
   "source": [
    "Extend your model from the subset data set (California/53) to the full data set. Do you need to add state & industry terms? Do you need to use interaction terms?\n",
    "\n",
    "Use a tuning set to make these decisions. Test one model from this section on the test data."
   ]
  },
  {
   "cell_type": "code",
   "execution_count": 34,
   "metadata": {},
   "outputs": [],
   "source": [
    "accuracy = []\n",
    "precision = []\n",
    "recall = []\n",
    "specificity = []\n",
    "costArr = []\n",
    "fprArr = []\n",
    "newPrecision = []\n",
    "newFPRArr = []\n",
    "existingPrecision = []\n",
    "existingFPRArr = []"
   ]
  },
  {
   "cell_type": "code",
   "execution_count": 35,
   "metadata": {},
   "outputs": [
    {
     "data": {
      "text/plain": [
       "Pipeline(memory=None,\n",
       "         steps=[('standardize',\n",
       "                 StandardScaler(copy=True, with_mean=True, with_std=True)),\n",
       "                ('classify',\n",
       "                 LogisticRegression(C=1.0, class_weight=None, dual=False,\n",
       "                                    fit_intercept=True, intercept_scaling=1,\n",
       "                                    l1_ratio=None, max_iter=100,\n",
       "                                    multi_class='auto', n_jobs=None,\n",
       "                                    penalty='none', random_state=None,\n",
       "                                    solver='lbfgs', tol=0.0001, verbose=0,\n",
       "                                    warm_start=False))],\n",
       "         verbose=False)"
      ]
     },
     "execution_count": 35,
     "metadata": {},
     "output_type": "execute_result"
    }
   ],
   "source": [
    "rng = np.random.RandomState(20201031)\n",
    "\n",
    "subset =  test.sample(frac=0.25, random_state=rng)\n",
    "subsetTest = subset.sample(frac=0.25, random_state=rng)\n",
    "subsetTrain_mask = pd.Series(True, index=subset.index)\n",
    "subsetTrain_mask[subsetTest.index] = False\n",
    "subsetTrain = subset[subsetTrain_mask].copy()\n",
    "\n",
    "\n",
    "feat_cols = [\n",
    "    #'RealEstate',\n",
    "    'Recession',\n",
    "    'modNAICS',\n",
    "    'DGMod',\n",
    "    'NewNewExist',\n",
    "    #'NAICS',\n",
    "    #'SBAPortion',\n",
    "    'StateNum'\n",
    "   \n",
    "]\n",
    "out_col = 'Default'\n",
    "\n",
    "train_x = subsetTrain[feat_cols]\n",
    "train_y = subsetTrain[out_col]\n",
    "test_x = subsetTest[feat_cols]\n",
    "test_y = subsetTest[out_col]\n",
    "\n",
    "#print(subsetTrain.Default.value_counts()/subsetTrain.Default.count())\n",
    "\n",
    "pure_pipeL2 = Pipeline([\n",
    "    ('standardize', StandardScaler()),\n",
    "    ('classify', LogisticRegression(penalty='none'))\n",
    "])\n",
    "\n",
    "pure_pipeL2.fit(train_x, train_y)\n"
   ]
  },
  {
   "cell_type": "code",
   "execution_count": 36,
   "metadata": {},
   "outputs": [],
   "source": [
    "feat_cols = [\n",
    "    #'RealEstate',\n",
    "    'Recession',\n",
    "    'modNAICS',\n",
    "    'DGMod',\n",
    "    'NewNewExist',\n",
    "    #'NAICS',\n",
    "    #'SBAPortion',\n",
    "    'StateNum'\n",
    "   \n",
    "]\n",
    "out_col = 'Default'\n",
    "\n",
    "train_x = train[feat_cols]\n",
    "train_y = train[out_col]\n",
    "test_x = test[feat_cols]\n",
    "test_y = test[out_col]"
   ]
  },
  {
   "cell_type": "code",
   "execution_count": 37,
   "metadata": {},
   "outputs": [],
   "source": [
    "pure_pipeL2 = Pipeline([\n",
    "    ('standardize', StandardScaler()),\n",
    "    (('classify', LogisticRegression(penalty='none')))\n",
    "])\n",
    "pure_pipeL2.fit(train_x, train_y)\n",
    "acc =  accuracy_score(test_y, pure_pipeL2.predict(test_x))\n",
    "prec = precision_score(test_y, pure_pipeL2.predict(test_x))\n",
    "rec = recall_score(test_y, pure_pipeL2.predict(test_x))\n",
    "tn, fp, fn, tp = confusion_matrix(test_y, pure_pipeL2.predict(test_x)).ravel()\n",
    "spec = tn / (tn+fp)\n",
    "cost = (fp*5) + (fn)\n",
    "fpr = fp\n",
    "\n",
    "testList = np.array(test_x['NewNewExist'].tolist()).astype(int)\n",
    "new = np.argwhere(testList == 1)\n",
    "existing = np.argwhere(testList == 0)\n",
    "prediction = pure_pipeL2.predict(test_x)\n",
    "new_test_x = np.take(prediction, new)\n",
    "np.array(test_y.tolist())\n",
    "new_test_y = np.take(np.array(test_y.tolist()).astype(int), new)\n",
    "existing_test_x = np.take(prediction, existing)\n",
    "existing_test_y = np.take(np.array(test_y.tolist()).astype(int), existing)\n",
    "\n",
    "newPrec = precision_score(new_test_y, new_test_x)\n",
    "ntn, nfp, nfn, ntp = confusion_matrix(new_test_y, new_test_x).ravel()\n",
    "newFPR = nfp\n",
    "existingPrec = precision_score(existing_test_y, existing_test_x)\n",
    "etn, efp, efn, etp = confusion_matrix(existing_test_y, existing_test_x).ravel()\n",
    "existingFPR = efp\n",
    "\n",
    "accuracy.append(acc)\n",
    "precision.append(prec)\n",
    "recall.append(rec) \n",
    "specificity.append(spec)\n",
    "costArr.append(cost) \n",
    "fprArr.append(fpr) \n",
    "newPrecision.append(newPrec) \n",
    "newFPRArr.append(newFPR) \n",
    "existingPrecision.append(existingPrec) \n",
    "existingFPRArr.append(existingFPR) \n"
   ]
  },
  {
   "cell_type": "markdown",
   "metadata": {},
   "source": [
    "# Lasso Regression \n",
    "\n",
    "Use a lasso regression (penalty='lasso' in LogisticRegression) to train a model with many features and automatically select the most useful ones. Use either a tuning set or LogisticRegressionCV to select a useful value for there regularization strength (C).\n",
    "\n",
    "Note that while lasso regression will automatically select features, it can only work with the features you give it — you still need to transform data into useful form for influencing the predictor.\n",
    "\n",
    "You might want to experiment with some more or different features on a tuning set!\n",
    "\n",
    "Test one model from this section on the test data."
   ]
  },
  {
   "cell_type": "code",
   "execution_count": 38,
   "metadata": {},
   "outputs": [
    {
     "name": "stdout",
     "output_type": "stream",
     "text": [
      "1.0    0.824238\n",
      "0.0    0.175762\n",
      "Name: Default, dtype: float64\n",
      "0.8215658362989324\n",
      "0.8221493261071098\n"
     ]
    }
   ],
   "source": [
    "# test = national.sample(frac=0.25, random_state=rng)\n",
    "# train_mask = pd.Series(True, index=national.index)\n",
    "# train_mask[test.index] = False\n",
    "# train = national[train_mask].copy()\n",
    "# train.head()\n",
    "rng = np.random.RandomState(20201031)\n",
    "\n",
    "subset =  test.sample(frac=0.25, random_state=rng)\n",
    "subsetTest = subset.sample(frac=0.25, random_state=rng)\n",
    "subsetTrain_mask = pd.Series(True, index=subset.index)\n",
    "subsetTrain_mask[subsetTest.index] = False\n",
    "subsetTrain = subset[subsetTrain_mask].copy()\n",
    "\n",
    "\n",
    "feat_cols = [\n",
    "    'RealEstate',\n",
    "    'Recession',\n",
    "    'modNAICS',\n",
    "    'DGMod',\n",
    "    'NewNewExist',\n",
    "    #'NAICS',\n",
    "    #'SBAPortion',\n",
    "    'StateNum'\n",
    "   \n",
    "]\n",
    "out_col = 'Default'\n",
    "\n",
    "train_x = subsetTrain[feat_cols]\n",
    "train_y = subsetTrain[out_col]\n",
    "test_x = subsetTest[feat_cols]\n",
    "test_y = subsetTest[out_col]\n",
    "\n",
    "print(subsetTrain.Default.value_counts()/subsetTrain.Default.count())\n",
    "\n",
    "pure_pipeL2 = Pipeline([\n",
    "    ('standardize', PowerTransformer()),\n",
    "    ('classify', LogisticRegression(C = 1, penalty='l1', solver = 'liblinear'))\n",
    "])\n",
    "\n",
    "pure_pipeL2.fit(train_x, train_y)\n",
    "print(accuracy_score(test_y, pure_pipeL2.predict(test_x)))\n",
    "print(precision_score(test_y, pure_pipeL2.predict(test_x)))"
   ]
  },
  {
   "cell_type": "code",
   "execution_count": 39,
   "metadata": {},
   "outputs": [],
   "source": [
    "feat_cols = [\n",
    "    #'RealEstate',\n",
    "    'Recession',\n",
    "    'modNAICS',\n",
    "    'DGMod',\n",
    "    'NewNewExist',\n",
    "    #'NAICS',\n",
    "    #'SBAPortion',\n",
    "    'StateNum'\n",
    "   \n",
    "]\n",
    "out_col = 'Default'\n",
    "\n",
    "train_x = train[feat_cols]\n",
    "train_y = train[out_col]\n",
    "test_x = test[feat_cols]\n",
    "test_y = test[out_col]\n",
    "\n",
    "\n",
    "\n",
    "pure_pipeL2 = Pipeline([\n",
    "    ('standardize', PowerTransformer()),\n",
    "    ('classify', LogisticRegressionCV( penalty='l1', solver='liblinear'))\n",
    "])\n",
    "pure_pipeL2.fit(train_x, train_y)\n",
    "acc =  accuracy_score(test_y, pure_pipeL2.predict(test_x))\n",
    "prec = precision_score(test_y, pure_pipeL2.predict(test_x))\n",
    "rec = recall_score(test_y, pure_pipeL2.predict(test_x))\n",
    "tn, fp, fn, tp = confusion_matrix(test_y, pure_pipeL2.predict(test_x)).ravel()\n",
    "spec = tn / (tn+fp)\n",
    "cost = (fp*5) + (fn)\n",
    "fpr = fp\n",
    "\n",
    "testList = np.array(test_x['NewNewExist'].tolist()).astype(int)\n",
    "new = np.argwhere(testList == 1)\n",
    "existing = np.argwhere(testList == 0)\n",
    "prediction = pure_pipeL2.predict(test_x)\n",
    "new_test_x = np.take(prediction, new)\n",
    "np.array(test_y.tolist())\n",
    "new_test_y = np.take(np.array(test_y.tolist()).astype(int), new)\n",
    "existing_test_x = np.take(prediction, existing)\n",
    "existing_test_y = np.take(np.array(test_y.tolist()).astype(int), existing)\n",
    "\n",
    "newPrec = precision_score(new_test_y, new_test_x)\n",
    "ntn, nfp, nfn, ntp = confusion_matrix(new_test_y, new_test_x).ravel()\n",
    "newFPR = nfp\n",
    "existingPrec = precision_score(existing_test_y, existing_test_x)\n",
    "etn, efp, efn, etp = confusion_matrix(existing_test_y, existing_test_x).ravel()\n",
    "existingFPR = efp\n",
    "\n",
    "accuracy.append(acc)\n",
    "precision.append(prec)\n",
    "recall.append(rec) \n",
    "specificity.append(spec)\n",
    "costArr.append(cost) \n",
    "fprArr.append(fpr) \n",
    "newPrecision.append(newPrec) \n",
    "newFPRArr.append(newFPR) \n",
    "existingPrecision.append(existingPrec) \n",
    "existingFPRArr.append(existingFPR) "
   ]
  },
  {
   "cell_type": "markdown",
   "metadata": {},
   "source": [
    "# ElasticNet \n",
    "\n",
    "Extend from Lasso to ElasticNet (penalty='elasticnet', you will also need solver='saga' and to pass a list of L1 ratios to LogisticRegressionCV if you use it).\n",
    "\n",
    "Again, test one model on the test data."
   ]
  },
  {
   "cell_type": "code",
   "execution_count": 40,
   "metadata": {},
   "outputs": [
    {
     "name": "stdout",
     "output_type": "stream",
     "text": [
      "1.0    0.824238\n",
      "0.0    0.175762\n",
      "Name: Default, dtype: float64\n",
      "0.8216370106761566\n",
      "0.8216116173120729\n"
     ]
    }
   ],
   "source": [
    "rng = np.random.RandomState(20201031)\n",
    "\n",
    "subset =  test.sample(frac=0.25, random_state=rng)\n",
    "subsetTest = subset.sample(frac=0.25, random_state=rng)\n",
    "subsetTrain_mask = pd.Series(True, index=subset.index)\n",
    "subsetTrain_mask[subsetTest.index] = False\n",
    "subsetTrain = subset[subsetTrain_mask].copy()\n",
    "\n",
    "\n",
    "feat_cols = [\n",
    "    'RealEstate',\n",
    "    'Recession',\n",
    "    'modNAICS',\n",
    "    'DGMod',\n",
    "    'NewNewExist',\n",
    "    'NAICS',\n",
    "    'SBAPortion',\n",
    "    'StateNum'\n",
    "   \n",
    "]\n",
    "out_col = 'Default'\n",
    "\n",
    "train_x = subsetTrain[feat_cols]\n",
    "train_y = subsetTrain[out_col]\n",
    "test_x = subsetTest[feat_cols]\n",
    "test_y = subsetTest[out_col]\n",
    "\n",
    "print(subsetTrain.Default.value_counts()/subsetTrain.Default.count())\n",
    "\n",
    "pure_pipeL2 = Pipeline([\n",
    "    ('standardize', PowerTransformer()),\n",
    "    ('classify', LogisticRegressionCV(penalty='elasticnet', solver='saga', l1_ratios=np.linspace(0, 1, 5)))\n",
    "])\n",
    "pure_pipeL2.fit(train_x, train_y)\n",
    "print(accuracy_score(test_y, pure_pipeL2.predict(test_x)))\n",
    "print(precision_score(test_y, pure_pipeL2.predict(test_x)))"
   ]
  },
  {
   "cell_type": "code",
   "execution_count": 41,
   "metadata": {},
   "outputs": [],
   "source": [
    "feat_cols = [\n",
    "    'RealEstate',\n",
    "    'Recession',\n",
    "    'modNAICS',\n",
    "    'DGMod',\n",
    "    'NewNewExist',\n",
    "    'NAICS',\n",
    "    'SBAPortion',\n",
    "    'StateNum'\n",
    "   \n",
    "]\n",
    "out_col = 'Default'\n",
    "\n",
    "train_x = train[feat_cols]\n",
    "train_y = train[out_col]\n",
    "test_x = test[feat_cols]\n",
    "test_y = test[out_col]\n",
    "\n",
    "\n",
    "\n",
    "pure_pipeL2 = Pipeline([\n",
    "    ('standardize', PowerTransformer()),\n",
    "    ('classify', LogisticRegressionCV(penalty='elasticnet', solver='saga', l1_ratios=np.linspace(0, 1, 5)))\n",
    "])\n",
    "pure_pipeL2.fit(train_x, train_y)\n",
    "acc =  accuracy_score(test_y, pure_pipeL2.predict(test_x))\n",
    "prec = precision_score(test_y, pure_pipeL2.predict(test_x))\n",
    "rec = recall_score(test_y, pure_pipeL2.predict(test_x))\n",
    "tn, fp, fn, tp = confusion_matrix(test_y, pure_pipeL2.predict(test_x)).ravel()\n",
    "spec = tn / (tn+fp)\n",
    "cost = (fp*5) + (fn)\n",
    "fpr = fp\n",
    "\n",
    "testList = np.array(test_x['NewNewExist'].tolist()).astype(int)\n",
    "new = np.argwhere(testList == 1)\n",
    "existing = np.argwhere(testList == 0)\n",
    "prediction = pure_pipeL2.predict(test_x)\n",
    "new_test_x = np.take(prediction, new)\n",
    "np.array(test_y.tolist())\n",
    "new_test_y = np.take(np.array(test_y.tolist()).astype(int), new)\n",
    "existing_test_x = np.take(prediction, existing)\n",
    "existing_test_y = np.take(np.array(test_y.tolist()).astype(int), existing)\n",
    "\n",
    "newPrec = precision_score(new_test_y, new_test_x)\n",
    "ntn, nfp, nfn, ntp = confusion_matrix(new_test_y, new_test_x).ravel()\n",
    "newFPR = nfp\n",
    "existingPrec = precision_score(existing_test_y, existing_test_x)\n",
    "etn, efp, efn, etp = confusion_matrix(existing_test_y, existing_test_x).ravel()\n",
    "existingFPR = efp\n",
    "\n",
    "accuracy.append(acc)\n",
    "precision.append(prec)\n",
    "recall.append(rec) \n",
    "specificity.append(spec)\n",
    "costArr.append(cost) \n",
    "fprArr.append(fpr) \n",
    "newPrecision.append(newPrec) \n",
    "newFPRArr.append(newFPR) \n",
    "existingPrecision.append(existingPrec) \n",
    "existingFPRArr.append(existingFPR) "
   ]
  },
  {
   "cell_type": "markdown",
   "metadata": {},
   "source": [
    "# Random Forest\n",
    "\n",
    "Let's try one more classifier: a random forest (RandomForestClassifier). Consider trying different hyperparameters, such as the number of estimators, with some tuning data.\n",
    "\n",
    "Test one random forest model on the test data."
   ]
  },
  {
   "cell_type": "code",
   "execution_count": 42,
   "metadata": {},
   "outputs": [
    {
     "name": "stdout",
     "output_type": "stream",
     "text": [
      "1.0    0.824238\n",
      "0.0    0.175762\n",
      "Name: Default, dtype: float64\n",
      "0.8265480427046263\n",
      "0.8278245841434435\n"
     ]
    }
   ],
   "source": [
    "rng = np.random.RandomState(20201031)\n",
    "\n",
    "subset =  test.sample(frac=0.25, random_state=rng)\n",
    "subsetTest = subset.sample(frac=0.25, random_state=rng)\n",
    "subsetTrain_mask = pd.Series(True, index=subset.index)\n",
    "subsetTrain_mask[subsetTest.index] = False\n",
    "subsetTrain = subset[subsetTrain_mask].copy()\n",
    "\n",
    "feat_cols = [\n",
    "    'RealEstate',\n",
    "    'Recession',\n",
    "    'modNAICS',\n",
    "    'DGMod',\n",
    "    'NewNewExist',\n",
    "    'NAICS',\n",
    "    'SBAPortion',\n",
    "    'StateNum'\n",
    "   \n",
    "]\n",
    "\n",
    "out_col = 'Default'\n",
    "\n",
    "train_x = subsetTrain[feat_cols]\n",
    "train_y = subsetTrain[out_col]\n",
    "test_x = subsetTest[feat_cols]\n",
    "test_y = subsetTest[out_col]\n",
    "\n",
    "print(subsetTrain.Default.value_counts()/subsetTrain.Default.count())\n",
    "\n",
    "pure_pipeL2 = Pipeline([\n",
    "    ('standardize', StandardScaler()),\n",
    "    ('classify', RandomForestClassifier(max_depth = 10, n_estimators= 100))\n",
    "    ])\n",
    "pure_pipeL2.fit(train_x, train_y)\n",
    "print(accuracy_score(test_y, pure_pipeL2.predict(test_x)))\n",
    "print(precision_score(test_y, pure_pipeL2.predict(test_x)))"
   ]
  },
  {
   "cell_type": "code",
   "execution_count": 43,
   "metadata": {},
   "outputs": [],
   "source": [
    "feat_cols = ['RealEstate',\n",
    "    'Recession',\n",
    "    'modNAICS',\n",
    "    'DGMod',\n",
    "    'SBAPortion',\n",
    "    'NAICS',\n",
    "    'StateNum']\n",
    "\n",
    "out_col = 'Default'\n",
    "\n",
    "train_x = train[feat_cols]\n",
    "train_y = train[out_col]\n",
    "test_x = test[feat_cols]\n",
    "test_y = test[out_col]\n",
    "newExist = test['NewNewExist']\n",
    "\n",
    "\n",
    "pure_pipeL2 = Pipeline([\n",
    "    ('standardize', StandardScaler()),\n",
    "    ('classify', RandomForestClassifier(max_depth = 10, n_estimators= 100))\n",
    "    ])\n",
    "pure_pipeL2.fit(train_x, train_y)\n",
    "acc =  accuracy_score(test_y, pure_pipeL2.predict(test_x))\n",
    "prec = precision_score(test_y, pure_pipeL2.predict(test_x))\n",
    "rec = recall_score(test_y, pure_pipeL2.predict(test_x))\n",
    "tn, fp, fn, tp = confusion_matrix(test_y, pure_pipeL2.predict(test_x)).ravel()\n",
    "spec = tn / (tn+fp)\n",
    "cost = (fp*5) + (fn)\n",
    "fpr = fp\n",
    "\n",
    "testList = np.array(test['NewNewExist'].tolist()).astype(int)\n",
    "new = np.argwhere(testList == 1)\n",
    "existing = np.argwhere(testList == 0)\n",
    "prediction = pure_pipeL2.predict(test_x)\n",
    "new_test_x = np.take(prediction, new)\n",
    "np.array(test_y.tolist())\n",
    "new_test_y = np.take(np.array(test_y.tolist()).astype(int), new)\n",
    "existing_test_x = np.take(prediction, existing)\n",
    "existing_test_y = np.take(np.array(test_y.tolist()).astype(int), existing)\n",
    "\n",
    "newPrec = precision_score(new_test_y, new_test_x)\n",
    "ntn, nfp, nfn, ntp = confusion_matrix(new_test_y, new_test_x).ravel()\n",
    "newFPR = nfp\n",
    "existingPrec = precision_score(existing_test_y, existing_test_x)\n",
    "etn, efp, efn, etp = confusion_matrix(existing_test_y, existing_test_x).ravel()\n",
    "existingFPR = efp\n",
    "\n",
    "accuracy.append(acc)\n",
    "precision.append(prec)\n",
    "recall.append(rec) \n",
    "specificity.append(spec)\n",
    "costArr.append(cost) \n",
    "fprArr.append(fpr) \n",
    "newPrecision.append(newPrec) \n",
    "newFPRArr.append(newFPR) \n",
    "existingPrecision.append(existingPrec) \n",
    "existingFPRArr.append(existingFPR) "
   ]
  },
  {
   "cell_type": "markdown",
   "metadata": {},
   "source": [
    "# Final Summary \n",
    "\n",
    "To wrap up, show the relative performance of your different models on the test data in a single chart (a bar chart or dot plot). Do so with the following metrics:\n",
    "\n",
    "    Accuracy\n",
    "    Precision\n",
    "    Recall / Sensitivity\n",
    "    Specificity\n",
    "\n",
    "Accuracy counts false positives and false negatives as equal errors, but in reality they do not have the same cost. Compute the cost of each classifier by assigning a cost of 5 to a false negative (classified as low-risk but defaulted), 1 to a false positive, and 0 to correct classifications. Show the cost of your different models in an appropriate chart.\n",
    "\n",
    "Finally, show overall the false positive rate for your different models. Then break down the false positive rate and the precision by business status, and show each model's FPR and precision for new and existing businesses separately (I recommend a bar charts with model on the X axis, FPR or precision on the y, and different bar colors for new and existing businesses). Does your model perform comparably well for new and existing businesses?\n",
    "\n"
   ]
  },
  {
   "cell_type": "code",
   "execution_count": 44,
   "metadata": {},
   "outputs": [],
   "source": [
    "allModels =pd.DataFrame(data=accuracy,    # values\n",
    "...              index=['FullModel', 'LassoRegression', 'ElasticNet','RandomForest'],    # 1st column as index\n",
    "...              columns=['accuracy']) "
   ]
  },
  {
   "cell_type": "code",
   "execution_count": 45,
   "metadata": {},
   "outputs": [],
   "source": [
    "allModels['precision'] = precision\n",
    "allModels['recall'] = recall\n",
    "allModels['specificity'] = specificity\n",
    "allModels['cost'] = costArr\n",
    "allModels['fpr'] =  fprArr\n",
    "allModels['newPrecision'] = newPrecision\n",
    "allModels['newFPRArr'] = newFPRArr\n",
    "allModels['existingPrecision'] = existingPrecision\n",
    "allModels['existingFPRArr'] = existingFPRArr"
   ]
  },
  {
   "cell_type": "code",
   "execution_count": 46,
   "metadata": {},
   "outputs": [
    {
     "data": {
      "text/html": [
       "<div>\n",
       "<style scoped>\n",
       "    .dataframe tbody tr th:only-of-type {\n",
       "        vertical-align: middle;\n",
       "    }\n",
       "\n",
       "    .dataframe tbody tr th {\n",
       "        vertical-align: top;\n",
       "    }\n",
       "\n",
       "    .dataframe thead th {\n",
       "        text-align: right;\n",
       "    }\n",
       "</style>\n",
       "<table border=\"1\" class=\"dataframe\">\n",
       "  <thead>\n",
       "    <tr style=\"text-align: right;\">\n",
       "      <th></th>\n",
       "      <th>accuracy</th>\n",
       "      <th>precision</th>\n",
       "      <th>recall</th>\n",
       "      <th>specificity</th>\n",
       "      <th>cost</th>\n",
       "      <th>fpr</th>\n",
       "      <th>newPrecision</th>\n",
       "      <th>newFPRArr</th>\n",
       "      <th>existingPrecision</th>\n",
       "      <th>existingFPRArr</th>\n",
       "    </tr>\n",
       "  </thead>\n",
       "  <tbody>\n",
       "    <tr>\n",
       "      <th>FullModel</th>\n",
       "      <td>0.822751</td>\n",
       "      <td>0.822755</td>\n",
       "      <td>0.999995</td>\n",
       "      <td>0.000000</td>\n",
       "      <td>199216</td>\n",
       "      <td>39843</td>\n",
       "      <td>0.808161</td>\n",
       "      <td>12153</td>\n",
       "      <td>0.828481</td>\n",
       "      <td>27690</td>\n",
       "    </tr>\n",
       "    <tr>\n",
       "      <th>LassoRegression</th>\n",
       "      <td>0.823067</td>\n",
       "      <td>0.823012</td>\n",
       "      <td>1.000000</td>\n",
       "      <td>0.001757</td>\n",
       "      <td>198865</td>\n",
       "      <td>39773</td>\n",
       "      <td>0.808496</td>\n",
       "      <td>12127</td>\n",
       "      <td>0.828707</td>\n",
       "      <td>27646</td>\n",
       "    </tr>\n",
       "    <tr>\n",
       "      <th>ElasticNet</th>\n",
       "      <td>0.822813</td>\n",
       "      <td>0.822803</td>\n",
       "      <td>1.000000</td>\n",
       "      <td>0.000326</td>\n",
       "      <td>199150</td>\n",
       "      <td>39830</td>\n",
       "      <td>0.808202</td>\n",
       "      <td>12150</td>\n",
       "      <td>0.828532</td>\n",
       "      <td>27680</td>\n",
       "    </tr>\n",
       "    <tr>\n",
       "      <th>RandomForest</th>\n",
       "      <td>0.824784</td>\n",
       "      <td>0.825051</td>\n",
       "      <td>0.998838</td>\n",
       "      <td>0.016841</td>\n",
       "      <td>196075</td>\n",
       "      <td>39172</td>\n",
       "      <td>0.810090</td>\n",
       "      <td>11985</td>\n",
       "      <td>0.830922</td>\n",
       "      <td>27187</td>\n",
       "    </tr>\n",
       "  </tbody>\n",
       "</table>\n",
       "</div>"
      ],
      "text/plain": [
       "                 accuracy  precision    recall  specificity    cost    fpr  \\\n",
       "FullModel        0.822751   0.822755  0.999995     0.000000  199216  39843   \n",
       "LassoRegression  0.823067   0.823012  1.000000     0.001757  198865  39773   \n",
       "ElasticNet       0.822813   0.822803  1.000000     0.000326  199150  39830   \n",
       "RandomForest     0.824784   0.825051  0.998838     0.016841  196075  39172   \n",
       "\n",
       "                 newPrecision  newFPRArr  existingPrecision  existingFPRArr  \n",
       "FullModel            0.808161      12153           0.828481           27690  \n",
       "LassoRegression      0.808496      12127           0.828707           27646  \n",
       "ElasticNet           0.808202      12150           0.828532           27680  \n",
       "RandomForest         0.810090      11985           0.830922           27187  "
      ]
     },
     "execution_count": 46,
     "metadata": {},
     "output_type": "execute_result"
    }
   ],
   "source": [
    "allModels"
   ]
  },
  {
   "cell_type": "code",
   "execution_count": 47,
   "metadata": {},
   "outputs": [
    {
     "data": {
      "image/png": "[encoded data removed]",
      "text/plain": [
       "<Figure size 432x288 with 1 Axes>"
      ]
     },
     "metadata": {
      "needs_background": "light"
     },
     "output_type": "display_data"
    }
   ],
   "source": [
    "a_plot = sns.barplot(x = allModels.index, y = 'accuracy', data = allModels)\n",
    "a_plot.set(ylim=(.82, .83))\n",
    "a_plot.set_title(\"Comparing Model Accuracy\")\n",
    "plt.show()"
   ]
  },
  {
   "cell_type": "code",
   "execution_count": 49,
   "metadata": {},
   "outputs": [
    {
     "data": {
      "image/png": "[encoded data removed]",
      "text/plain": [
       "<Figure size 432x288 with 1 Axes>"
      ]
     },
     "metadata": {
      "needs_background": "light"
     },
     "output_type": "display_data"
    }
   ],
   "source": [
    "a_plot = sns.barplot(x = allModels.index, y = 'precision', data = allModels)\n",
    "a_plot.set(ylim=(.82, .83))\n",
    "a_plot.set_title(\"Comparing Model Precision\")\n",
    "plt.show()"
   ]
  },
  {
   "cell_type": "code",
   "execution_count": 50,
   "metadata": {},
   "outputs": [
    {
     "data": {
      "image/png": "[encoded data removed]",
      "text/plain": [
       "<Figure size 432x288 with 1 Axes>"
      ]
     },
     "metadata": {
      "needs_background": "light"
     },
     "output_type": "display_data"
    }
   ],
   "source": [
    "a_plot = sns.barplot(x = allModels.index, y = 'recall', data = allModels)\n",
    "a_plot.set(ylim=(.99, 1))\n",
    "a_plot.set_title(\"Comparing Model Recall\")\n",
    "plt.show()"
   ]
  },
  {
   "cell_type": "code",
   "execution_count": 51,
   "metadata": {},
   "outputs": [
    {
     "data": {
      "image/png": "[encoded data removed]",
      "text/plain": [
       "<Figure size 432x288 with 1 Axes>"
      ]
     },
     "metadata": {
      "needs_background": "light"
     },
     "output_type": "display_data"
    }
   ],
   "source": [
    "a_plot = sns.barplot(x = allModels.index, y = 'specificity', data = allModels)\n",
    "a_plot.set(ylim=(0, .02))\n",
    "a_plot.set_title(\"Comparing Model Specificty\")\n",
    "plt.show()"
   ]
  },
  {
   "cell_type": "code",
   "execution_count": 52,
   "metadata": {},
   "outputs": [
    {
     "data": {
      "image/png": "[encoded data removed]",
      "text/plain": [
       "<Figure size 432x288 with 1 Axes>"
      ]
     },
     "metadata": {
      "needs_background": "light"
     },
     "output_type": "display_data"
    }
   ],
   "source": [
    "a_plot = sns.barplot(x = allModels.index, y = 'cost', data = allModels)\n",
    "a_plot.set(ylim=(190000, 200000))\n",
    "a_plot.set_title(\"Comparing Model Cost\")\n",
    "plt.show()"
   ]
  },
  {
   "cell_type": "code",
   "execution_count": 53,
   "metadata": {},
   "outputs": [
    {
     "data": {
      "text/plain": [
       "<AxesSubplot:label='0f3008e6-f438-4730-bd85-a6482d5461fb', ylabel='newPrecision'>"
      ]
     },
     "execution_count": 53,
     "metadata": {},
     "output_type": "execute_result"
    },
    {
     "data": {
      "image/png": "[encoded data removed]",
      "text/plain": [
       "<Figure size 432x288 with 2 Axes>"
      ]
     },
     "metadata": {
      "needs_background": "light"
     },
     "output_type": "display_data"
    }
   ],
   "source": [
    "# a_plot = sns.barplot(x = allModels.index, y = 'newPrecision', data = allModels)\n",
    "# a_plot.set(ylim=(39000, 40000))\n",
    "# a_plot.set_title(\"Comparing Model False Positive Rate\")\n",
    "# plt.show()\n",
    "\n",
    "import matplotlib.pyplot as plt\n",
    "a_plot = sns.barplot(x = allModels.index, y = 'existingPrecision', color=\"r\", data = allModels)\n",
    "a_plot.set(ylim=(.8, .85))\n",
    "a_plot.set_title(\"Comparing Existing (red) and New (blue) Business Precision\")\n",
    "ax2 = plt.twinx()\n",
    "ax2.set(ylim=(.8, .85))\n",
    "sns.barplot(x = allModels.index, y = 'newPrecision', data=allModels, color=\"b\", ax=ax2)"
   ]
  },
  {
   "cell_type": "markdown",
   "metadata": {},
   "source": [
    "The above chart demonstrates that models tend to have higher precision predicting whether existing business will default on their loans, compared to new businesses."
   ]
  },
  {
   "cell_type": "markdown",
   "metadata": {},
   "source": [
    "*Write 2-3 paragraphs about what you learn about your model performance and the usefulness of different features.*"
   ]
  },
  {
   "cell_type": "markdown",
   "metadata": {},
   "source": [
    "When looking at the results highlighted in the charts above, it is easy to see which of these models performed the best, and which of them performed not so amazing. Clearly the random forest is the best of the lot, but it is also the most different model. Even though it is performing binary classification, the fact that it is an ensemble model probably highlights why ensemble models can perform so well. Though, I noticed taht even with Lasso regression, I had to manually select features, as throwing all the features at the classification performs worse results, as seen in Elastic net. Though, what I really think would have improved the results of all of these is further feature selection.\n",
    "\n",
    "Going into this homework assignment, I leaned heavily on the features described in the paper. Further more, the paper specifically states that these features may or may not work, hence the existence of a FICO score. At first I didn't even include New/Existing Business into my feature set because of the paper, but then later added it to see how it would affect the results. Given more time, I would investigate a lot more features to see how they could potentially impact performance. Maybe zip codes? Urban or Rural? Jobs generated? Because a lot of the things I thought would have a big impact, like NAICS, didn't seem to cause that much of a difference, while Modified NAICS, a less specific variable, did. That makes me think that maybe there is too much granularity in some of these variables, and in addressing that could lead to improved effectiveness."
   ]
  }
 ],
 "metadata": {
  "kernelspec": {
   "display_name": "Python 3",
   "language": "python",
   "name": "python3"
  },
  "language_info": {
   "codemirror_mode": {
    "name": "ipython",
    "version": 3
   },
   "file_extension": ".py",
   "mimetype": "text/x-python",
   "name": "python",
   "nbconvert_exporter": "python",
   "pygments_lexer": "ipython3",
   "version": "3.7.9"
  }
 },
 "nbformat": 4,
 "nbformat_minor": 4
}
