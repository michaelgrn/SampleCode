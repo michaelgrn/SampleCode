{
 "cells": [
  {
   "cell_type": "code",
   "execution_count": 1,
   "metadata": {},
   "outputs": [],
   "source": [
    "import pandas as pd\n",
    "from collections import Counter as ctr\n"
   ]
  },
  {
   "cell_type": "markdown",
   "metadata": {},
   "source": [
    "# Intro\n",
    "\n",
    "The following few cells are meant to import the training data and briefly inspect it"
   ]
  },
  {
   "cell_type": "code",
   "execution_count": 2,
   "metadata": {},
   "outputs": [],
   "source": [
    "train = pd.read_csv('train.txt', delimiter = \" \", names=['word', 'pos', 'other'], header=None)\n",
    "train['word'] = train.word.str.lower()"
   ]
  },
  {
   "cell_type": "code",
   "execution_count": 3,
   "metadata": {},
   "outputs": [
    {
     "data": {
      "text/html": [
       "<div>\n",
       "<style scoped>\n",
       "    .dataframe tbody tr th:only-of-type {\n",
       "        vertical-align: middle;\n",
       "    }\n",
       "\n",
       "    .dataframe tbody tr th {\n",
       "        vertical-align: top;\n",
       "    }\n",
       "\n",
       "    .dataframe thead th {\n",
       "        text-align: right;\n",
       "    }\n",
       "</style>\n",
       "<table border=\"1\" class=\"dataframe\">\n",
       "  <thead>\n",
       "    <tr style=\"text-align: right;\">\n",
       "      <th></th>\n",
       "      <th>word</th>\n",
       "      <th>pos</th>\n",
       "      <th>other</th>\n",
       "    </tr>\n",
       "  </thead>\n",
       "  <tbody>\n",
       "    <tr>\n",
       "      <th>0</th>\n",
       "      <td>confidence</td>\n",
       "      <td>NN</td>\n",
       "      <td>B-NP</td>\n",
       "    </tr>\n",
       "    <tr>\n",
       "      <th>1</th>\n",
       "      <td>in</td>\n",
       "      <td>IN</td>\n",
       "      <td>B-PP</td>\n",
       "    </tr>\n",
       "    <tr>\n",
       "      <th>2</th>\n",
       "      <td>the</td>\n",
       "      <td>DT</td>\n",
       "      <td>B-NP</td>\n",
       "    </tr>\n",
       "    <tr>\n",
       "      <th>3</th>\n",
       "      <td>pound</td>\n",
       "      <td>NN</td>\n",
       "      <td>I-NP</td>\n",
       "    </tr>\n",
       "    <tr>\n",
       "      <th>4</th>\n",
       "      <td>is</td>\n",
       "      <td>VBZ</td>\n",
       "      <td>B-VP</td>\n",
       "    </tr>\n",
       "  </tbody>\n",
       "</table>\n",
       "</div>"
      ],
      "text/plain": [
       "         word  pos other\n",
       "0  confidence   NN  B-NP\n",
       "1          in   IN  B-PP\n",
       "2         the   DT  B-NP\n",
       "3       pound   NN  I-NP\n",
       "4          is  VBZ  B-VP"
      ]
     },
     "execution_count": 3,
     "metadata": {},
     "output_type": "execute_result"
    }
   ],
   "source": [
    "train.head()"
   ]
  },
  {
   "cell_type": "markdown",
   "metadata": {},
   "source": [
    "# Preprocessing\n",
    "\n",
    "Editing the training data to make it useful for transmission\n"
   ]
  },
  {
   "cell_type": "code",
   "execution_count": 4,
   "metadata": {},
   "outputs": [
    {
     "data": {
      "text/html": [
       "<div>\n",
       "<style scoped>\n",
       "    .dataframe tbody tr th:only-of-type {\n",
       "        vertical-align: middle;\n",
       "    }\n",
       "\n",
       "    .dataframe tbody tr th {\n",
       "        vertical-align: top;\n",
       "    }\n",
       "\n",
       "    .dataframe thead th {\n",
       "        text-align: right;\n",
       "    }\n",
       "</style>\n",
       "<table border=\"1\" class=\"dataframe\">\n",
       "  <thead>\n",
       "    <tr style=\"text-align: right;\">\n",
       "      <th></th>\n",
       "      <th>word</th>\n",
       "      <th>pos</th>\n",
       "      <th>other</th>\n",
       "      <th>ppos</th>\n",
       "    </tr>\n",
       "  </thead>\n",
       "  <tbody>\n",
       "    <tr>\n",
       "      <th>0</th>\n",
       "      <td>confidence</td>\n",
       "      <td>NN</td>\n",
       "      <td>B-NP</td>\n",
       "      <td>0</td>\n",
       "    </tr>\n",
       "    <tr>\n",
       "      <th>1</th>\n",
       "      <td>in</td>\n",
       "      <td>IN</td>\n",
       "      <td>B-PP</td>\n",
       "      <td>NN</td>\n",
       "    </tr>\n",
       "    <tr>\n",
       "      <th>2</th>\n",
       "      <td>the</td>\n",
       "      <td>DT</td>\n",
       "      <td>B-NP</td>\n",
       "      <td>IN</td>\n",
       "    </tr>\n",
       "    <tr>\n",
       "      <th>3</th>\n",
       "      <td>pound</td>\n",
       "      <td>NN</td>\n",
       "      <td>I-NP</td>\n",
       "      <td>DT</td>\n",
       "    </tr>\n",
       "    <tr>\n",
       "      <th>4</th>\n",
       "      <td>is</td>\n",
       "      <td>VBZ</td>\n",
       "      <td>B-VP</td>\n",
       "      <td>NN</td>\n",
       "    </tr>\n",
       "  </tbody>\n",
       "</table>\n",
       "</div>"
      ],
      "text/plain": [
       "         word  pos other ppos\n",
       "0  confidence   NN  B-NP    0\n",
       "1          in   IN  B-PP   NN\n",
       "2         the   DT  B-NP   IN\n",
       "3       pound   NN  I-NP   DT\n",
       "4          is  VBZ  B-VP   NN"
      ]
     },
     "execution_count": 4,
     "metadata": {},
     "output_type": "execute_result"
    }
   ],
   "source": [
    "train['ppos'] = train.pos.shift(1)\n",
    "train['ppos'] = train.ppos.fillna('0')\n",
    "train.head()"
   ]
  },
  {
   "cell_type": "markdown",
   "metadata": {},
   "source": [
    "# Methods for Tagging\n",
    "\n",
    "Defining Ptt and Pwt\n",
    "and the emission/transmission methods for greedy"
   ]
  },
  {
   "cell_type": "code",
   "execution_count": 5,
   "metadata": {},
   "outputs": [],
   "source": [
    "smooth = 0.00001\n",
    "pos_ppos = {}\n",
    "pos_ppos_denom = {}\n",
    "for col_name in set(train.ppos):\n",
    "    sub_frame = train[train.ppos == col_name]\n",
    "    counted = ctr(sub_frame.pos)\n",
    "    pos_ppos[col_name] = counted\n",
    "    pos_ppos_denom[col_name] = len(sub_frame)\n",
    "    \n",
    "\n",
    "# conditional \n",
    "def Ptt(Ti,Tprev):\n",
    "    if Ti not in pos_ppos[Tprev]: return smooth\n",
    "    return pos_ppos[Tprev][Ti] / pos_ppos_denom[Tprev]\n",
    "\n",
    "word_pos = {}\n",
    "word_pos_denom = {}\n",
    "for col_name in set(train.pos):\n",
    "    sub_frame = train[train.pos == col_name]\n",
    "    counted = ctr(sub_frame.word)\n",
    "    word_pos[col_name] = counted\n",
    "    word_pos_denom[col_name] = len(sub_frame)\n",
    "    \n",
    "\n",
    "# conditional \n",
    "def Pwt(W, T):\n",
    "    if W not in word_pos[T]: return smooth\n",
    "    return word_pos[T][W] / word_pos_denom[T]"
   ]
  },
  {
   "cell_type": "code",
   "execution_count": 6,
   "metadata": {},
   "outputs": [
    {
     "data": {
      "text/plain": [
       "0.48453776929370057"
      ]
     },
     "execution_count": 6,
     "metadata": {},
     "output_type": "execute_result"
    }
   ],
   "source": [
    "Ptt(Ti='NN',Tprev='DT')"
   ]
  },
  {
   "cell_type": "code",
   "execution_count": 7,
   "metadata": {},
   "outputs": [],
   "source": [
    "pos = list(set(train.pos))\n",
    "def emission(W=''):\n",
    "    return[[T,Pwt(W,T)] for T in pos]\n",
    "    \n",
    "def transmission(X=\"\"):\n",
    "    return[(T, Ptt(T,X))  for T in pos]"
   ]
  },
  {
   "cell_type": "markdown",
   "metadata": {},
   "source": [
    "#Importing data to test on\n",
    "\n",
    "Importing the data and preprocessing it. "
   ]
  },
  {
   "cell_type": "code",
   "execution_count": 8,
   "metadata": {},
   "outputs": [],
   "source": [
    "test = pd.read_csv('test.txt', delimiter=' ', names=['word', 'pos', 'other'])\n",
    "test['word'] = test.word.str.lower()"
   ]
  },
  {
   "cell_type": "markdown",
   "metadata": {},
   "source": [
    "# Greedy Tagger\n",
    "\n",
    "This is the greedy version of the part of speech tagger"
   ]
  },
  {
   "cell_type": "code",
   "execution_count": 9,
   "metadata": {},
   "outputs": [],
   "source": [
    "count = 0\n",
    "hyp = []\n",
    "for word in test['word']:\n",
    "    #print(word)\n",
    "    if count == 0:\n",
    "        tag = max(emission(word))\n",
    "        count += 1\n",
    "        hyp.append(tag[0])\n",
    "    else:\n",
    "        #print(tag)\n",
    "        tprev = list(tag)\n",
    "        emissions = emission(word)\n",
    "        transmissions = transmission(tprev[0])\n",
    "        maxTag = 0\n",
    "        for k, k2 in zip(emissions,transmissions):\n",
    "            #print(k[1], k2[1])\n",
    "            if((k[1]*k2[1]) > maxTag):\n",
    "                maxTag = k[1]*k2[1]\n",
    "                tag = k[0],(k[1]*k2[1])\n",
    "        #print(tag[0])\n",
    "        hyp.append(tag[0])\n",
    "        "
   ]
  },
  {
   "cell_type": "markdown",
   "metadata": {},
   "source": [
    "# Post Processing\n",
    "\n",
    "Combining results with data frame and testing"
   ]
  },
  {
   "cell_type": "code",
   "execution_count": 10,
   "metadata": {},
   "outputs": [
    {
     "data": {
      "text/html": [
       "<div>\n",
       "<style scoped>\n",
       "    .dataframe tbody tr th:only-of-type {\n",
       "        vertical-align: middle;\n",
       "    }\n",
       "\n",
       "    .dataframe tbody tr th {\n",
       "        vertical-align: top;\n",
       "    }\n",
       "\n",
       "    .dataframe thead th {\n",
       "        text-align: right;\n",
       "    }\n",
       "</style>\n",
       "<table border=\"1\" class=\"dataframe\">\n",
       "  <thead>\n",
       "    <tr style=\"text-align: right;\">\n",
       "      <th></th>\n",
       "      <th>word</th>\n",
       "      <th>pos</th>\n",
       "      <th>other</th>\n",
       "      <th>hyp</th>\n",
       "    </tr>\n",
       "  </thead>\n",
       "  <tbody>\n",
       "    <tr>\n",
       "      <th>0</th>\n",
       "      <td>rockwell</td>\n",
       "      <td>NNP</td>\n",
       "      <td>B-NP</td>\n",
       "      <td>``</td>\n",
       "    </tr>\n",
       "    <tr>\n",
       "      <th>1</th>\n",
       "      <td>international</td>\n",
       "      <td>NNP</td>\n",
       "      <td>I-NP</td>\n",
       "      <td>NNP</td>\n",
       "    </tr>\n",
       "    <tr>\n",
       "      <th>2</th>\n",
       "      <td>corp.</td>\n",
       "      <td>NNP</td>\n",
       "      <td>I-NP</td>\n",
       "      <td>NNP</td>\n",
       "    </tr>\n",
       "    <tr>\n",
       "      <th>3</th>\n",
       "      <td>'s</td>\n",
       "      <td>POS</td>\n",
       "      <td>B-NP</td>\n",
       "      <td>POS</td>\n",
       "    </tr>\n",
       "    <tr>\n",
       "      <th>4</th>\n",
       "      <td>tulsa</td>\n",
       "      <td>NNP</td>\n",
       "      <td>I-NP</td>\n",
       "      <td>NNP</td>\n",
       "    </tr>\n",
       "  </tbody>\n",
       "</table>\n",
       "</div>"
      ],
      "text/plain": [
       "            word  pos other  hyp\n",
       "0       rockwell  NNP  B-NP   ``\n",
       "1  international  NNP  I-NP  NNP\n",
       "2          corp.  NNP  I-NP  NNP\n",
       "3             's  POS  B-NP  POS\n",
       "4          tulsa  NNP  I-NP  NNP"
      ]
     },
     "execution_count": 10,
     "metadata": {},
     "output_type": "execute_result"
    }
   ],
   "source": [
    "hper = pd.DataFrame(hyp)\n",
    "test['hyp'] = hper\n",
    "test.head()"
   ]
  },
  {
   "cell_type": "code",
   "execution_count": 11,
   "metadata": {},
   "outputs": [
    {
     "data": {
      "text/plain": [
       "0.9055870992253625"
      ]
     },
     "execution_count": 11,
     "metadata": {},
     "output_type": "execute_result"
    }
   ],
   "source": [
    "from sklearn.metrics import accuracy_score\n",
    "\n",
    "accuracy_score(test.pos, test.hyp)\n"
   ]
  },
  {
   "cell_type": "markdown",
   "metadata": {},
   "source": [
    "# Confusion Matrix\n",
    "\n",
    "Made the matrix and evaluated"
   ]
  },
  {
   "cell_type": "code",
   "execution_count": 12,
   "metadata": {},
   "outputs": [],
   "source": [
    "matrix = pd.crosstab(test.pos, test.hyp, rownames=['True'], colnames=['Predicted'], margins=True)"
   ]
  },
  {
   "cell_type": "code",
   "execution_count": 13,
   "metadata": {},
   "outputs": [
    {
     "name": "stdout",
     "output_type": "stream",
     "text": [
      "#\n",
      "1.0\n",
      "$\n",
      "1.0\n",
      "''\n",
      "0.9968253968253968\n",
      "(\n",
      "1.0\n",
      ")\n",
      "1.0\n",
      ",\n",
      "0.9983291562238931\n",
      ".\n",
      "1.0\n",
      ":\n",
      "1.0\n",
      "CC\n",
      "0.9967051070840197\n",
      "CD\n",
      "0.9948834565093804\n",
      "DT\n",
      "0.7989152269987947\n",
      "EX\n",
      "0.9791666666666666\n",
      "FW\n",
      "1.0\n",
      "IN\n",
      "0.8907413976587443\n",
      "JJ\n",
      "0.875733137829912\n",
      "JJR\n",
      "0.8387096774193549\n",
      "JJS\n",
      "0.9863013698630136\n",
      "MD\n",
      "0.985200845665962\n",
      "NN\n",
      "0.8448616600790514\n",
      "NNP\n",
      "0.8614177090998283\n",
      "NNPS\n",
      "0.7272727272727273\n",
      "NNS\n",
      "0.9595775673707211\n",
      "PDT\n",
      "0.4\n",
      "POS\n",
      "0.9923076923076923\n",
      "PRP\n",
      "0.9564705882352941\n",
      "PRP$\n",
      "1.0\n",
      "RB\n",
      "0.9376996805111821\n",
      "RBR\n",
      "0.7446808510638298\n",
      "RBS\n",
      "1.0\n",
      "RP\n",
      "0.25\n",
      "TO\n",
      "1.0\n",
      "UH\n",
      "1.0\n",
      "VB\n",
      "0.9054263565891473\n",
      "VBD\n",
      "0.9256550883607556\n",
      "VBG\n",
      "0.9690553745928339\n",
      "VBN\n",
      "0.8855975485188968\n",
      "VBP\n",
      "0.9048582995951417\n",
      "VBZ\n",
      "0.9214365881032548\n",
      "WDT\n",
      "0.905511811023622\n",
      "WP\n",
      "1.0\n",
      "WP$\n",
      "1.0\n",
      "WRB\n",
      "1.0\n",
      "``\n",
      "0.9969135802469136\n"
     ]
    }
   ],
   "source": [
    "for part in sorted(pos):\n",
    "    if part in matrix:\n",
    "        precision = matrix[part][part]/matrix[part]['All']\n",
    "        print (part)\n",
    "        print(precision)\n",
    "        #print(matrix[part][part])\n",
    "        #print(matrix[part]['All'])"
   ]
  },
  {
   "cell_type": "code",
   "execution_count": 14,
   "metadata": {},
   "outputs": [
    {
     "data": {
      "text/plain": [
       "0.9055870992253625"
      ]
     },
     "execution_count": 14,
     "metadata": {},
     "output_type": "execute_result"
    }
   ],
   "source": [
    "from sklearn.metrics import accuracy_score\n",
    "\n",
    "accuracy_score(test.pos, test.hyp)"
   ]
  },
  {
   "cell_type": "markdown",
   "metadata": {},
   "source": [
    "# Viterbi\n",
    "\n",
    "Define the method and implement"
   ]
  },
  {
   "cell_type": "code",
   "execution_count": 15,
   "metadata": {},
   "outputs": [],
   "source": [
    "def viterbi(obs):\n",
    "    opt= []\n",
    "    V = [{}]\n",
    "    for st in pos:\n",
    "        V[0][st] = {\"prob\": Pwt(obs[0],st), \"prev\": None}\n",
    "    for t in range(1, len(obs)):\n",
    "        V.append({})\n",
    "        for st in pos:\n",
    "                #print(V[t-1][pos[0]][\"prob\"])\n",
    "            max_tr_prob = V[t-1][pos[0]][\"prob\"]*Ptt(pos[0],st)\n",
    "            prev_st_selected = pos[0]\n",
    "            for prev_st in pos[1:]:\n",
    "                    #print(V[t-1][prev_st][\"prob\"])\n",
    "                tr_prob = V[t-1][prev_st][\"prob\"]*Ptt(st, prev_st)\n",
    "                if tr_prob > max_tr_prob:\n",
    "                    max_tr_prob = tr_prob\n",
    "                    prev_st_selected = prev_st\n",
    "\n",
    "            max_prob = max_tr_prob * Pwt(obs[t],st)\n",
    "            V[t][st] = {\"prob\": max_prob, \"prev\": prev_st_selected}\n",
    "    max_prob = max(value[\"prob\"] for value in V[-1].values())\n",
    "    previous = None\n",
    "        # Get most probable state and its backtrack\n",
    "    for st, data in V[-1].items():\n",
    "        if data[\"prob\"] == max_prob:\n",
    "            opt.append(st)\n",
    "            previous = st\n",
    "            break\n",
    "    for t in range(len(V) - 2, -1, -1):\n",
    "        opt.insert(0, V[t + 1][previous][\"prev\"])\n",
    "        previous = V[t + 1][previous][\"prev\"]\n",
    "            \n",
    "    return opt "
   ]
  },
  {
   "cell_type": "markdown",
   "metadata": {},
   "source": [
    "# Preprocessing test words and testing them"
   ]
  },
  {
   "cell_type": "code",
   "execution_count": 16,
   "metadata": {},
   "outputs": [],
   "source": [
    "sentence =[]\n",
    "sentences= []\n",
    "for word in test['word']:\n",
    "    sentence.append(word)\n",
    "    if word == '.':\n",
    "        sentences.append(sentence)\n",
    "        sentence = []"
   ]
  },
  {
   "cell_type": "code",
   "execution_count": 17,
   "metadata": {},
   "outputs": [],
   "source": [
    "opt = []\n",
    "for sentence in sentences:\n",
    "    opt.append(viterbi(sentence))"
   ]
  },
  {
   "cell_type": "code",
   "execution_count": 18,
   "metadata": {},
   "outputs": [],
   "source": [
    "#print(opt)\n",
    "opt2 = []\n",
    "for sentence in opt:\n",
    "    for word in sentence:\n",
    "        opt2.append(word)"
   ]
  },
  {
   "cell_type": "code",
   "execution_count": 19,
   "metadata": {},
   "outputs": [],
   "source": [
    "hper = pd.DataFrame(opt2)\n",
    "test['hyp'] = hper\n"
   ]
  },
  {
   "cell_type": "code",
   "execution_count": 20,
   "metadata": {},
   "outputs": [
    {
     "data": {
      "text/plain": [
       "0.9208476687000021"
      ]
     },
     "execution_count": 20,
     "metadata": {},
     "output_type": "execute_result"
    }
   ],
   "source": [
    "accuracy_score(test.pos, test.hyp)"
   ]
  },
  {
   "cell_type": "code",
   "execution_count": 21,
   "metadata": {},
   "outputs": [
    {
     "name": "stdout",
     "output_type": "stream",
     "text": [
      "#\n",
      "0.4782608695652174\n",
      "$\n",
      "0.9297820823244553\n",
      "''\n",
      "0.9936708860759493\n",
      "(\n",
      "1.0\n",
      ")\n",
      "0.9746835443037974\n",
      ",\n",
      "0.9719398129320862\n",
      ".\n",
      "0.9889834752128193\n",
      ":\n",
      "0.9957805907172996\n",
      "CC\n",
      "0.9967078189300411\n",
      "CD\n",
      "0.9741282339707537\n",
      "DT\n",
      "0.8953044259716918\n",
      "EX\n",
      "0.8135593220338984\n",
      "FW\n",
      "0.037037037037037035\n",
      "IN\n",
      "0.9397136397889977\n",
      "JJ\n",
      "0.8593231585932316\n",
      "JJR\n",
      "0.9463414634146341\n",
      "JJS\n",
      "0.9166666666666666\n",
      "MD\n",
      "0.975\n",
      "NN\n",
      "0.8720694645441389\n",
      "NNP\n",
      "0.8855015126832674\n",
      "NNPS\n",
      "0.7171717171717171\n",
      "NNS\n",
      "0.9632488055861815\n",
      "PDT\n",
      "0.4090909090909091\n",
      "POS\n",
      "0.9907621247113164\n",
      "PRP\n",
      "0.949648711943794\n",
      "PRP$\n",
      "1.0\n",
      "RB\n",
      "0.933641975308642\n",
      "RBR\n",
      "0.9354838709677419\n",
      "RBS\n",
      "0.8431372549019608\n",
      "RP\n",
      "0.2727272727272727\n",
      "TO\n",
      "0.9792186201163757\n",
      "UH\n",
      "0.047619047619047616\n",
      "VB\n",
      "0.8996913580246914\n",
      "VBD\n",
      "0.938949938949939\n",
      "VBG\n",
      "0.966996699669967\n",
      "VBN\n",
      "0.855410447761194\n",
      "VBP\n",
      "0.8984375\n",
      "VBZ\n",
      "0.9542857142857143\n",
      "WDT\n",
      "0.8767123287671232\n",
      "WP\n",
      "0.8870967741935484\n",
      "WP$\n",
      "0.2\n",
      "WRB\n",
      "1.0\n",
      "``\n",
      "0.9847560975609756\n"
     ]
    }
   ],
   "source": [
    "matrix = pd.crosstab(test.pos, test.hyp, rownames=['True'], colnames=['Predicted'], margins=True)\n",
    "for part in sorted(pos):\n",
    "    if part !=  'SYM':\n",
    "        precision = matrix[part][part]/matrix[part]['All']\n",
    "        print (part)\n",
    "        print(precision)\n",
    "        #print(matrix[part][part])\n",
    "        #print(matrix[part]['All'])"
   ]
  },
  {
   "cell_type": "markdown",
   "metadata": {},
   "source": [
    "# Results\n",
    "\n",
    "As to be expected the viterbi runs slightly better than the greedy algorithm. The confusion matrix shows that WP$ was the hardest part of speech to identify. "
   ]
  }
 ],
 "metadata": {
  "kernelspec": {
   "display_name": "Python 3",
   "language": "python",
   "name": "python3"
  },
  "language_info": {
   "codemirror_mode": {
    "name": "ipython",
    "version": 3
   },
   "file_extension": ".py",
   "mimetype": "text/x-python",
   "name": "python",
   "nbconvert_exporter": "python",
   "pygments_lexer": "ipython3",
   "version": "3.7.9"
  }
 },
 "nbformat": 4,
 "nbformat_minor": 2
}
