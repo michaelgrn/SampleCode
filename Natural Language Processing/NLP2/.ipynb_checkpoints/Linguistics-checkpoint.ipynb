{
 "cells": [
  {
   "cell_type": "markdown",
   "metadata": {},
   "source": [
    "# Assignment a - Linguistics\n",
    "\n",
    "## Boise State University NLP - Dr. Kennington\n",
    "\n",
    "### Instructions and Hints:\n",
    "\n",
    "* For this assignment, we will be looking at tokenization, morphology, and syntax. \n",
    "* This will follow in a similar way as the notebook we did in class, though it will be a bit more work. \n",
    "* Answer each question (or, in some cases, follow the command)\n",
    "* Follow the instructions on the corresponding assignment Trello card for submitting your assignment."
   ]
  },
  {
   "cell_type": "code",
   "execution_count": 1,
   "metadata": {},
   "outputs": [],
   "source": [
    "import nltk\n",
    "import pandas as pd\n",
    "from nltk import word_tokenize\n",
    "from nltk.stem.snowball import SnowballStemmer"
   ]
  },
  {
   "cell_type": "markdown",
   "metadata": {},
   "source": [
    "#### We will be using **[Tamarian](https://www.youtube.com/watch?v=ANvlLcOTy6M)** as our example language: "
   ]
  },
  {
   "cell_type": "code",
   "execution_count": 2,
   "metadata": {},
   "outputs": [],
   "source": [
    "sentences = [\n",
    "    'Sinda his face black his eyes red',\n",
    "    'Tamak',\n",
    "    'The river Tamak in winter',\n",
    "    'Darmok and Jalad at Tanagra',\n",
    "    'Darmok and Jalad on the ocean',\n",
    "    'Socath his eyes opened',\n",
    "    'The beast of Tanagra Usani his army Jakka when the walls fell', # extra credit\n",
    "    'Picard and Dathan at Eladrel',\n",
    "    'Marab with sails unfurled',\n",
    "    'Timba his arms open',\n",
    "    'Timba at rest'\n",
    "]"
   ]
  },
  {
   "cell_type": "markdown",
   "metadata": {},
   "source": [
    "### 1. Tokenize the sentences \n",
    "\n",
    "* you will need to make sure everything is lower case\n",
    "* you will need to represent the sentences as a 2D array of words"
   ]
  },
  {
   "cell_type": "code",
   "execution_count": 3,
   "metadata": {},
   "outputs": [],
   "source": [
    "sentenceFrame = pd.DataFrame(sentences, columns=['sentence'], dtype= str)\n",
    "#sentenceFrame['lower'] = map(lambda x: x.lower(), sentenceFrame['sentence'])\n",
    "sentenceFrame['tokenized_sents'] = sentenceFrame.apply(lambda row: word_tokenize(row['sentence']), axis=1)\n",
    "sentenceFrame['lower'] = map(lambda x: x.lower(), sentenceFrame['sentence'])"
   ]
  },
  {
   "cell_type": "code",
   "execution_count": 4,
   "metadata": {},
   "outputs": [
    {
     "name": "stdout",
     "output_type": "stream",
     "text": [
      "sinda his face black his eyes red\n",
      "['sinda', 'his', 'face', 'black', 'his', 'eyes', 'red']\n",
      "tamak\n",
      "['tamak']\n",
      "the river tamak in winter\n",
      "['the', 'river', 'tamak', 'in', 'winter']\n",
      "darmok and jalad at tanagra\n",
      "['darmok', 'and', 'jalad', 'at', 'tanagra']\n",
      "darmok and jalad on the ocean\n",
      "['darmok', 'and', 'jalad', 'on', 'the', 'ocean']\n",
      "socath his eyes opened\n",
      "['socath', 'his', 'eyes', 'opened']\n",
      "the beast of tanagra usani his army jakka when the walls fell\n",
      "['the', 'beast', 'of', 'tanagra', 'usani', 'his', 'army', 'jakka', 'when', 'the', 'walls', 'fell']\n",
      "picard and dathan at eladrel\n",
      "['picard', 'and', 'dathan', 'at', 'eladrel']\n",
      "marab with sails unfurled\n",
      "['marab', 'with', 'sails', 'unfurled']\n",
      "timba his arms open\n",
      "['timba', 'his', 'arms', 'open']\n",
      "timba at rest\n",
      "['timba', 'at', 'rest']\n"
     ]
    }
   ],
   "source": [
    "stemmer = SnowballStemmer(\"english\")\n",
    "newSents = []\n",
    "\n",
    "for sentence in sentences:\n",
    "    sent = sentence.lower()\n",
    "    print(sent)\n",
    "    sent = word_tokenize(sent)\n",
    "    print(sent)\n",
    "    sent = [stemmer.stem(word) for word in sent]\n",
    "    newSents.append(sent)"
   ]
  },
  {
   "cell_type": "markdown",
   "metadata": {},
   "source": [
    "### 2. Write a grammar that can parse all of the sentences\n",
    "\n",
    "* Try to write as few grammar rules as possible\n",
    "* Use recursion where you can\n",
    "* Use `S` as the start symbol\n",
    "* All terminals need to be in quotes\n"
   ]
  },
  {
   "cell_type": "code",
   "execution_count": 5,
   "metadata": {},
   "outputs": [],
   "source": [
    "tamarian_grammar = nltk.CFG.fromstring(\"\"\"\n",
    " S -> NP VP | NP \n",
    " PP -> P NP\n",
    " NP -> Det N | Det N PP | 'I' | ADJ N | Det N ADJ | N | N PP | N NP | N CJ\n",
    " VP -> NP V | VP PP | DT DT | P V | P VP\n",
    " ADJ -> Adj | Adj ADJP\n",
    " ADJP -> ADJ\n",
    " CJ -> C NP\n",
    " DT -> Det N ADJ\n",
    " Det -> 'the' | 'his'\n",
    " N -> Noun | Noun ProperNoun | ProperNoun\n",
    " ProperNoun -> 'sinda' | 'tamak' | 'darmok' | 'jalad' | 'tanagra' | 'eladrel' | 'marad' | 'picard' | 'socath' | 'dathan' | 'marab' | 'timba' | 'usani' | 'jakka' \n",
    " Noun -> 'river'| 'face' | 'eye' |  'winter' |  'ocean' | 'sail' | 'arm' | 'armi' | 'beast' | 'wall'\n",
    " V -> 'rest' | 'unfurl' | 'open' | 'fell'\n",
    " P -> 'with' | 'in' | 'at' | 'on' | 'of' | 'when'\n",
    " Adj -> 'black' | 'red' \n",
    " C -> 'and' \n",
    " \"\"\")"
   ]
  },
  {
   "cell_type": "markdown",
   "metadata": {},
   "source": [
    "## 3. Show that your grammar parses all of the sentences\n",
    "\n",
    "* Use a parser that can use a CFG (NLTK has several) \n",
    "* Make sure there is a parse tree for each of the sentences"
   ]
  },
  {
   "cell_type": "code",
   "execution_count": 6,
   "metadata": {},
   "outputs": [
    {
     "name": "stdout",
     "output_type": "stream",
     "text": [
      "\n",
      "['sinda', 'his', 'face', 'black', 'his', 'eye', 'red']\n",
      "\n",
      "(S\n",
      "  (NP (N (ProperNoun sinda)))\n",
      "  (VP\n",
      "    (DT (Det his) (N (Noun face)) (ADJ (Adj black)))\n",
      "    (DT (Det his) (N (Noun eye)) (ADJ (Adj red)))))\n",
      "\n",
      "\n",
      "['tamak']\n",
      "\n",
      "(S (NP (N (ProperNoun tamak))))\n",
      "\n",
      "\n",
      "['the', 'river', 'tamak', 'in', 'winter']\n",
      "\n",
      "(S\n",
      "  (NP\n",
      "    (Det the)\n",
      "    (N (Noun river) (ProperNoun tamak))\n",
      "    (PP (P in) (NP (N (Noun winter))))))\n",
      "\n",
      "\n",
      "['darmok', 'and', 'jalad', 'at', 'tanagra']\n",
      "\n",
      "(S\n",
      "  (NP\n",
      "    (N (ProperNoun darmok))\n",
      "    (CJ\n",
      "      (C and)\n",
      "      (NP\n",
      "        (N (ProperNoun jalad))\n",
      "        (PP (P at) (NP (N (ProperNoun tanagra))))))))\n",
      "\n",
      "\n",
      "['darmok', 'and', 'jalad', 'on', 'the', 'ocean']\n",
      "\n",
      "(S\n",
      "  (NP\n",
      "    (N (ProperNoun darmok))\n",
      "    (CJ\n",
      "      (C and)\n",
      "      (NP\n",
      "        (N (ProperNoun jalad))\n",
      "        (PP (P on) (NP (Det the) (N (Noun ocean))))))))\n",
      "\n",
      "\n",
      "['socath', 'his', 'eye', 'open']\n",
      "\n",
      "(S\n",
      "  (NP (N (ProperNoun socath)))\n",
      "  (VP (NP (Det his) (N (Noun eye))) (V open)))\n",
      "\n",
      "\n",
      "['the', 'beast', 'of', 'tanagra', 'usani', 'his', 'armi', 'jakka', 'when', 'the', 'wall', 'fell']\n",
      "\n",
      "(S\n",
      "  (NP (Det the) (N (Noun beast)))\n",
      "  (VP\n",
      "    (P of)\n",
      "    (VP\n",
      "      (NP\n",
      "        (N (ProperNoun tanagra))\n",
      "        (NP\n",
      "          (N (ProperNoun usani))\n",
      "          (NP\n",
      "            (Det his)\n",
      "            (N (Noun armi) (ProperNoun jakka))\n",
      "            (PP (P when) (NP (Det the) (N (Noun wall)))))))\n",
      "      (V fell))))\n",
      "\n",
      "(S\n",
      "  (NP\n",
      "    (Det the)\n",
      "    (N (Noun beast))\n",
      "    (PP (P of) (NP (N (ProperNoun tanagra)))))\n",
      "  (VP\n",
      "    (NP\n",
      "      (N (ProperNoun usani))\n",
      "      (NP\n",
      "        (Det his)\n",
      "        (N (Noun armi) (ProperNoun jakka))\n",
      "        (PP (P when) (NP (Det the) (N (Noun wall))))))\n",
      "    (V fell)))\n",
      "\n",
      "(S\n",
      "  (NP\n",
      "    (Det the)\n",
      "    (N (Noun beast))\n",
      "    (PP\n",
      "      (P of)\n",
      "      (NP (N (ProperNoun tanagra)) (NP (N (ProperNoun usani))))))\n",
      "  (VP\n",
      "    (NP\n",
      "      (Det his)\n",
      "      (N (Noun armi) (ProperNoun jakka))\n",
      "      (PP (P when) (NP (Det the) (N (Noun wall)))))\n",
      "    (V fell)))\n",
      "\n",
      "(S\n",
      "  (NP\n",
      "    (Det the)\n",
      "    (N (Noun beast))\n",
      "    (PP\n",
      "      (P of)\n",
      "      (NP\n",
      "        (N (ProperNoun tanagra))\n",
      "        (NP (N (ProperNoun usani)) (NP (Det his) (N (Noun armi)))))))\n",
      "  (VP\n",
      "    (NP\n",
      "      (N (ProperNoun jakka))\n",
      "      (PP (P when) (NP (Det the) (N (Noun wall)))))\n",
      "    (V fell)))\n",
      "\n",
      "(S\n",
      "  (NP\n",
      "    (Det the)\n",
      "    (N (Noun beast))\n",
      "    (PP\n",
      "      (P of)\n",
      "      (NP\n",
      "        (N (ProperNoun tanagra))\n",
      "        (NP\n",
      "          (N (ProperNoun usani))\n",
      "          (NP (Det his) (N (Noun armi) (ProperNoun jakka)))))))\n",
      "  (VP (P when) (VP (NP (Det the) (N (Noun wall))) (V fell))))\n",
      "\n",
      "\n",
      "['picard', 'and', 'dathan', 'at', 'eladrel']\n",
      "\n",
      "(S\n",
      "  (NP\n",
      "    (N (ProperNoun picard))\n",
      "    (CJ\n",
      "      (C and)\n",
      "      (NP\n",
      "        (N (ProperNoun dathan))\n",
      "        (PP (P at) (NP (N (ProperNoun eladrel))))))))\n",
      "\n",
      "\n",
      "['marab', 'with', 'sail', 'unfurl']\n",
      "\n",
      "(S\n",
      "  (NP (N (ProperNoun marab)))\n",
      "  (VP (P with) (VP (NP (N (Noun sail))) (V unfurl))))\n",
      "\n",
      "\n",
      "['timba', 'his', 'arm', 'open']\n",
      "\n",
      "(S\n",
      "  (NP (N (ProperNoun timba)))\n",
      "  (VP (NP (Det his) (N (Noun arm))) (V open)))\n",
      "\n",
      "\n",
      "['timba', 'at', 'rest']\n",
      "\n",
      "(S (NP (N (ProperNoun timba))) (VP (P at) (V rest)))\n",
      "\n"
     ]
    }
   ],
   "source": [
    "parser = nltk.ChartParser(tamarian_grammar)\n",
    "\n",
    "for sentence in newSents:\n",
    "    print()\n",
    "    print(sentence)\n",
    "    print()\n",
    "    for tree in parser.parse(sentence):\n",
    "        print(tree)\n",
    "        print()"
   ]
  },
  {
   "cell_type": "markdown",
   "metadata": {},
   "source": [
    "For questions 4-6, just answer in marktown/raw text. No code necessary.\n",
    "\n",
    "## 4. Does your parser have full coverage?"
   ]
  },
  {
   "cell_type": "markdown",
   "metadata": {},
   "source": [
    "Yes, my parser does have full coverage; at least for the strings listed. If we are assuming that is the entirety of the language, or that the entire language follows this grammatical structure, then we can say the designed parser has full coverage."
   ]
  },
  {
   "cell_type": "markdown",
   "metadata": {},
   "source": [
    "## 5. Does your parser over-generate?"
   ]
  },
  {
   "cell_type": "markdown",
   "metadata": {},
   "source": [
    "The parser does not over generate. It might be possible to say that the parser over generates for the extra credit sentence ('The beast of Tanagra Usani his army Jakka when the walls fell'), but looking at the tree it becomes clear that this sentence is ambigious."
   ]
  },
  {
   "cell_type": "markdown",
   "metadata": {},
   "source": [
    "## 6. Which sentences are ambiguous? How do you know?"
   ]
  },
  {
   "cell_type": "markdown",
   "metadata": {},
   "source": [
    "The extra credit sentence seems ambigious because it is difficult to determine which noun owns what. For example: is the army called Jakka? We could could be sure if a sentence seperated on proper nouns, however we have the one example \"The river Tamak...\" where we have a noun followed by a pronoun. Therefore, ambiguity exists."
   ]
  },
  {
   "cell_type": "markdown",
   "metadata": {},
   "source": [
    "## 7. Parse this sentence:\n",
    "\n",
    "* If you wrote your grammar right, this should be covered. If this isn't covered, then you'll need to go back and change your grammar."
   ]
  },
  {
   "cell_type": "code",
   "execution_count": 7,
   "metadata": {},
   "outputs": [],
   "source": [
    "s = ['timba', 'his', 'face', 'red', 'his', 'eye', 'black', 'in', 'winter']"
   ]
  },
  {
   "cell_type": "code",
   "execution_count": 8,
   "metadata": {},
   "outputs": [
    {
     "name": "stdout",
     "output_type": "stream",
     "text": [
      "(S\n",
      "  (NP (N (ProperNoun timba)))\n",
      "  (VP\n",
      "    (VP\n",
      "      (DT (Det his) (N (Noun face)) (ADJ (Adj red)))\n",
      "      (DT (Det his) (N (Noun eye)) (ADJ (Adj black))))\n",
      "    (PP (P in) (NP (N (Noun winter))))))\n"
     ]
    }
   ],
   "source": [
    "for tree in parser.parse(s):\n",
    "    print(tree)"
   ]
  },
  {
   "cell_type": "markdown",
   "metadata": {},
   "source": [
    "## 8. Was your result in Questions 7 ambiguous?\n",
    "\n",
    "* Answer in markdown or raw text, no code necessary"
   ]
  },
  {
   "cell_type": "markdown",
   "metadata": {
    "collapsed": true
   },
   "source": [
    "No, the result is very straight forward; only one tree."
   ]
  },
  {
   "cell_type": "markdown",
   "metadata": {
    "collapsed": true
   },
   "source": [
    "## 9. How expressive is your language?\n",
    "\n",
    "* Answer in markdown or raw text, no code necessary"
   ]
  },
  {
   "cell_type": "markdown",
   "metadata": {},
   "source": [
    "Hard to judge what is meant by expressive, however a lot of the language hinges on the use of how nouns are put together, or at least where the ambiguity is. All sentences parse properly, and if the language follows mostly this format, this the grammar should cover most of sentences. I am concerned that my language incorporates Prepositional Phrases into the Noun Phrase category, but I don't think it affects the articulation of the language. If our examples were more complex, it might prove to be an issue. Also, the way this grammar is structured, a sentence can have an infinite string of adjectives. Thats pretty expressive."
   ]
  },
  {
   "cell_type": "markdown",
   "metadata": {},
   "source": [
    "## 10. Make the grammar more general by treating POS tags as the terminals"
   ]
  },
  {
   "cell_type": "code",
   "execution_count": 9,
   "metadata": {},
   "outputs": [],
   "source": [
    "\n",
    "tamarian_grammar = nltk.CFG.fromstring(\"\"\"\n",
    " S -> NP VP | NP \n",
    " PP -> P NP\n",
    " NP -> Det N | Det N PP | 'I' | ADJ N | Det N ADJ | N | N PP | N NP | N CJ\n",
    " VP -> NP V | VP PP | DT DT | P V | P VP\n",
    " ADJ -> Adj | Adj ADJP\n",
    " ADJP -> ADJ\n",
    " DT -> Det N ADJ\n",
    " CJ -> C NP\n",
    " Det -> 'Det'\n",
    " N -> Noun | Noun Pronoun | Pronoun\n",
    " Pronoun -> 'ProperNoun' \n",
    " Noun -> 'Noun'\n",
    " V -> 'Verb'\n",
    " P -> 'Prep' \n",
    " Adj -> 'Adj' \n",
    " C -> 'C'\n",
    " \"\"\")"
   ]
  },
  {
   "cell_type": "markdown",
   "metadata": {},
   "source": [
    "## 11. What is your set of POS tags?\n",
    "\n",
    "* show the list of strings (e.g., ['Adj', ...])\n",
    "\n"
   ]
  },
  {
   "cell_type": "code",
   "execution_count": 10,
   "metadata": {},
   "outputs": [
    {
     "data": {
      "text/plain": [
       "['Det', 'ProperNoun', 'Noun', 'Verb', 'Prep', 'Adj']"
      ]
     },
     "execution_count": 10,
     "metadata": {},
     "output_type": "execute_result"
    }
   ],
   "source": [
    "['Det', 'ProperNoun', 'Noun', 'Verb', 'Prep', 'Adj']"
   ]
  },
  {
   "cell_type": "markdown",
   "metadata": {},
   "source": [
    "## 12. Make a list for the POS tags that correspond to the sentence `s` below:"
   ]
  },
  {
   "cell_type": "code",
   "execution_count": 11,
   "metadata": {},
   "outputs": [],
   "source": [
    "s = ['timba', 'his', 'face', 'red', 'his', 'eye', 'back', 'in', 'winter']\n",
    "p = ['ProperNoun',  'Det', 'Noun', 'Adj', 'Det', 'Noun', 'Adj', 'Prep', 'Noun']"
   ]
  },
  {
   "cell_type": "markdown",
   "metadata": {},
   "source": [
    "## 13. Parse the sentence (represented as POS tags)"
   ]
  },
  {
   "cell_type": "code",
   "execution_count": 12,
   "metadata": {},
   "outputs": [
    {
     "name": "stdout",
     "output_type": "stream",
     "text": [
      "(S\n",
      "  (NP (N (Pronoun ProperNoun)))\n",
      "  (VP\n",
      "    (VP\n",
      "      (DT (Det Det) (N (Noun Noun)) (ADJ (Adj Adj)))\n",
      "      (DT (Det Det) (N (Noun Noun)) (ADJ (Adj Adj))))\n",
      "    (PP (P Prep) (NP (N (Noun Noun))))))\n",
      "\n"
     ]
    }
   ],
   "source": [
    "parser = nltk.ChartParser(tamarian_grammar)\n",
    "\n",
    "for tree in parser.parse(p):\n",
    "        print(tree)\n",
    "        print()"
   ]
  },
  {
   "cell_type": "markdown",
   "metadata": {},
   "source": [
    "## Extra Credit! Do all of the above questions again, but add the sentence:\n",
    "\n",
    "'The beast of Tanagra Usani his army Jakka when the walls fell'"
   ]
  },
  {
   "cell_type": "markdown",
   "metadata": {
    "collapsed": true
   },
   "source": [
    "*Done!*"
   ]
  }
 ],
 "metadata": {
  "anaconda-cloud": {},
  "kernelspec": {
   "display_name": "Python 3",
   "language": "python",
   "name": "python3"
  },
  "language_info": {
   "codemirror_mode": {
    "name": "ipython",
    "version": 3
   },
   "file_extension": ".py",
   "mimetype": "text/x-python",
   "name": "python",
   "nbconvert_exporter": "python",
   "pygments_lexer": "ipython3",
   "version": "3.7.9"
  }
 },
 "nbformat": 4,
 "nbformat_minor": 1
}
