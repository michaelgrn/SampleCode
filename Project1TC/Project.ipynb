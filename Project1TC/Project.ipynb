{
 "cells": [
  {
   "cell_type": "code",
   "execution_count": 2,
   "metadata": {},
   "outputs": [],
   "source": [
    "import sys\n",
    "import os\n",
    "import glob \n",
    "import io\n",
    "\n",
    "#for path in glob.glob(os.path.join(os.getcwd(), \"q1.txt\")):\n",
    "rules = []\n",
    "strings = []\n",
    "F = open(\"q1.txt\") \n",
    "text = F.read().splitlines( )\n",
    "count = 0\n",
    "num_Rules = 0\n",
    "for line in text:\n",
    "    if count == 0:\n",
    "        num_Rules = line\n",
    "    if count > 0 and count < (int(num_Rules)+1):\n",
    "        rules.append(line)\n",
    "    if count > 0 and count > (int(num_Rules)):\n",
    "        strings.append(line)\n",
    "\n",
    "    count += 1\n",
    "\n",
    "##change this later to only accept CL\n",
    "#with open(sys.argv[1], 'r') as my_file:\n",
    " #   print(my_file.read())"
   ]
  },
  {
   "cell_type": "code",
   "execution_count": 3,
   "metadata": {},
   "outputs": [
    {
     "name": "stdout",
     "output_type": "stream",
     "text": [
      "2\n",
      "['S->aSb', 'S->!']\n",
      "['ab', 'aabb', '!', 'aaaabbbb', 'ababa', 'bbaaa']\n"
     ]
    }
   ],
   "source": [
    "print(num_Rules)\n",
    "print(rules)\n",
    "print(strings)"
   ]
  },
  {
   "cell_type": "code",
   "execution_count": 8,
   "metadata": {},
   "outputs": [],
   "source": [
    "pdaRules = []\n",
    "for rule in rules:\n",
    "    newRule = rule.split(\"->\")\n",
    "    pdaRule = []\n",
    "    count = 0\n",
    "    #print(newRule[0])\n",
    "    #print(newRule[1])\n",
    "    if(len(newRule[1]) > 1):\n",
    "        for char in newRule[1]:\n",
    "            if count == 0:\n",
    "                pdaRule.append(['~',newRule[0], char])\n",
    "                count += 1\n",
    "            else:\n",
    "                pdaRule.append(['~','~', char])\n",
    "    \n",
    "    else:\n",
    "        pdaRule.append(['~',newRule[0], newRule[1]])\n",
    "        \n",
    "    pdaRules.append(pdaRule)"
   ]
  },
  {
   "cell_type": "code",
   "execution_count": 9,
   "metadata": {},
   "outputs": [
    {
     "name": "stdout",
     "output_type": "stream",
     "text": [
      "[[['~', 'S', 'a'], ['~', '~', 'S'], ['~', '~', 'b']], [['~', 'S', '!']]]\n"
     ]
    }
   ],
   "source": [
    "print(pdaRules)"
   ]
  },
  {
   "cell_type": "code",
   "execution_count": null,
   "metadata": {},
   "outputs": [],
   "source": []
  }
 ],
 "metadata": {
  "kernelspec": {
   "display_name": "Python 3",
   "language": "python",
   "name": "python3"
  },
  "language_info": {
   "codemirror_mode": {
    "name": "ipython",
    "version": 3
   },
   "file_extension": ".py",
   "mimetype": "text/x-python",
   "name": "python",
   "nbconvert_exporter": "python",
   "pygments_lexer": "ipython3",
   "version": "3.7.1"
  }
 },
 "nbformat": 4,
 "nbformat_minor": 2
}
